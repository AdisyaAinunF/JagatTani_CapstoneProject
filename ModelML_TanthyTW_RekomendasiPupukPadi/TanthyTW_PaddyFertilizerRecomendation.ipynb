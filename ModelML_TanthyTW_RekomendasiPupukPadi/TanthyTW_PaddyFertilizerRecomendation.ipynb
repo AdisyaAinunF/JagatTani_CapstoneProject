{
  "cells": [
    {
      "cell_type": "markdown",
      "metadata": {
        "id": "H9wADwK78DCz"
      },
      "source": [
        "- **Group ID:** [DB8-PG010]\n",
        "- **Sumber Dataset:** https://drive.google.com/file/d/1By-Y0rcgMuKX8EOLJ790uwJ8ggsVNZ7e/view"
      ]
    },
    {
      "cell_type": "markdown",
      "metadata": {
        "id": "H-z4QGlO8DC1"
      },
      "source": [
        "## Import Semua Packages/Library yang Digunakan"
      ]
    },
    {
      "cell_type": "code",
      "metadata": {
        "id": "31bcacbd"
      },
      "source": [
        "import os, csv, random, warnings\n",
        "import pandas as pd\n",
        "import numpy as np\n",
        "import tensorflow as tf\n",
        "from tensorflow.keras.models import Sequential\n",
        "from tensorflow.keras.layers import Dense, Dropout, Input\n",
        "from tensorflow.keras.callbacks import EarlyStopping\n",
        "from sklearn.model_selection import train_test_split\n",
        "from sklearn.preprocessing import StandardScaler, LabelEncoder\n",
        "from sklearn.metrics import classification_report\n",
        "import matplotlib.pyplot as plt\n",
        "import seaborn as sns # Import seaborn"
      ],
      "execution_count": 1,
      "outputs": []
    },
    {
      "cell_type": "code",
      "execution_count": 2,
      "metadata": {
        "id": "ori4ebXxi01m",
        "colab": {
          "base_uri": "https://localhost:8080/"
        },
        "outputId": "2a26b75d-77d2-43a8-ec54-aef544bfdb54"
      },
      "outputs": [
        {
          "output_type": "stream",
          "name": "stdout",
          "text": [
            "TensorFlow Version: 2.19.0\n"
          ]
        }
      ],
      "source": [
        "# Mencetak versi TensorFlow yang sedang digunakan\n",
        "print(f\"TensorFlow Version: {tf.__version__}\")"
      ]
    },
    {
      "cell_type": "markdown",
      "metadata": {
        "id": "TK4DvqfbYrN8"
      },
      "source": [
        "## Data Preparation"
      ]
    },
    {
      "cell_type": "markdown",
      "metadata": {
        "id": "HHekw29KX4XQ"
      },
      "source": [
        "### Data Loading"
      ]
    },
    {
      "cell_type": "code",
      "source": [
        "file_id = \"1By-Y0rcgMuKX8EOLJ790uwJ8ggsVNZ7e\"\n",
        "url = f\"https://drive.google.com/uc?export=download&id={file_id}\"\n",
        "df = pd.read_csv(url, low_memory=False)"
      ],
      "metadata": {
        "id": "we2x9qIJS5jx"
      },
      "execution_count": 3,
      "outputs": []
    },
    {
      "cell_type": "code",
      "source": [
        "df_paddy = df[df['Crop Type'] == 'Paddy'].copy()\n",
        "print(f\"Bentuk data setelah filter 'Paddy': {df_paddy.shape}\")"
      ],
      "metadata": {
        "colab": {
          "base_uri": "https://localhost:8080/"
        },
        "id": "_iktl2c3TbIs",
        "outputId": "a4c9a212-0af6-4729-a1e7-b3ff2661fd54"
      },
      "execution_count": 4,
      "outputs": [
        {
          "output_type": "stream",
          "name": "stdout",
          "text": [
            "Bentuk data setelah filter 'Paddy': (85754, 10)\n"
          ]
        }
      ]
    },
    {
      "cell_type": "code",
      "source": [
        "df_paddy.head()"
      ],
      "metadata": {
        "colab": {
          "base_uri": "https://localhost:8080/",
          "height": 206
        },
        "id": "yBmJGCw6TReM",
        "outputId": "b4844282-6b05-444d-ce4c-62bdb472b19a"
      },
      "execution_count": 5,
      "outputs": [
        {
          "output_type": "execute_result",
          "data": {
            "text/plain": [
              "    id  Temparature  Humidity  Moisture Soil Type Crop Type  Nitrogen  \\\n",
              "4    4           35        58        43       Red     Paddy        37   \n",
              "6    6           27        62        53     Sandy     Paddy        26   \n",
              "14  14           36        60        44     Sandy     Paddy        15   \n",
              "20  20           26        63        37     Sandy     Paddy        39   \n",
              "24  24           30        55        53     Sandy     Paddy        20   \n",
              "\n",
              "    Potassium  Phosphorous Fertilizer Name  \n",
              "4           2           16             DAP  \n",
              "6          15           22           28-28  \n",
              "14          3           30           20-20  \n",
              "20          1           28            Urea  \n",
              "24         19           12           28-28  "
            ],
            "text/html": [
              "\n",
              "  <div id=\"df-2d93155a-ace5-49e6-8793-c0b5046e171f\" class=\"colab-df-container\">\n",
              "    <div>\n",
              "<style scoped>\n",
              "    .dataframe tbody tr th:only-of-type {\n",
              "        vertical-align: middle;\n",
              "    }\n",
              "\n",
              "    .dataframe tbody tr th {\n",
              "        vertical-align: top;\n",
              "    }\n",
              "\n",
              "    .dataframe thead th {\n",
              "        text-align: right;\n",
              "    }\n",
              "</style>\n",
              "<table border=\"1\" class=\"dataframe\">\n",
              "  <thead>\n",
              "    <tr style=\"text-align: right;\">\n",
              "      <th></th>\n",
              "      <th>id</th>\n",
              "      <th>Temparature</th>\n",
              "      <th>Humidity</th>\n",
              "      <th>Moisture</th>\n",
              "      <th>Soil Type</th>\n",
              "      <th>Crop Type</th>\n",
              "      <th>Nitrogen</th>\n",
              "      <th>Potassium</th>\n",
              "      <th>Phosphorous</th>\n",
              "      <th>Fertilizer Name</th>\n",
              "    </tr>\n",
              "  </thead>\n",
              "  <tbody>\n",
              "    <tr>\n",
              "      <th>4</th>\n",
              "      <td>4</td>\n",
              "      <td>35</td>\n",
              "      <td>58</td>\n",
              "      <td>43</td>\n",
              "      <td>Red</td>\n",
              "      <td>Paddy</td>\n",
              "      <td>37</td>\n",
              "      <td>2</td>\n",
              "      <td>16</td>\n",
              "      <td>DAP</td>\n",
              "    </tr>\n",
              "    <tr>\n",
              "      <th>6</th>\n",
              "      <td>6</td>\n",
              "      <td>27</td>\n",
              "      <td>62</td>\n",
              "      <td>53</td>\n",
              "      <td>Sandy</td>\n",
              "      <td>Paddy</td>\n",
              "      <td>26</td>\n",
              "      <td>15</td>\n",
              "      <td>22</td>\n",
              "      <td>28-28</td>\n",
              "    </tr>\n",
              "    <tr>\n",
              "      <th>14</th>\n",
              "      <td>14</td>\n",
              "      <td>36</td>\n",
              "      <td>60</td>\n",
              "      <td>44</td>\n",
              "      <td>Sandy</td>\n",
              "      <td>Paddy</td>\n",
              "      <td>15</td>\n",
              "      <td>3</td>\n",
              "      <td>30</td>\n",
              "      <td>20-20</td>\n",
              "    </tr>\n",
              "    <tr>\n",
              "      <th>20</th>\n",
              "      <td>20</td>\n",
              "      <td>26</td>\n",
              "      <td>63</td>\n",
              "      <td>37</td>\n",
              "      <td>Sandy</td>\n",
              "      <td>Paddy</td>\n",
              "      <td>39</td>\n",
              "      <td>1</td>\n",
              "      <td>28</td>\n",
              "      <td>Urea</td>\n",
              "    </tr>\n",
              "    <tr>\n",
              "      <th>24</th>\n",
              "      <td>24</td>\n",
              "      <td>30</td>\n",
              "      <td>55</td>\n",
              "      <td>53</td>\n",
              "      <td>Sandy</td>\n",
              "      <td>Paddy</td>\n",
              "      <td>20</td>\n",
              "      <td>19</td>\n",
              "      <td>12</td>\n",
              "      <td>28-28</td>\n",
              "    </tr>\n",
              "  </tbody>\n",
              "</table>\n",
              "</div>\n",
              "    <div class=\"colab-df-buttons\">\n",
              "\n",
              "  <div class=\"colab-df-container\">\n",
              "    <button class=\"colab-df-convert\" onclick=\"convertToInteractive('df-2d93155a-ace5-49e6-8793-c0b5046e171f')\"\n",
              "            title=\"Convert this dataframe to an interactive table.\"\n",
              "            style=\"display:none;\">\n",
              "\n",
              "  <svg xmlns=\"http://www.w3.org/2000/svg\" height=\"24px\" viewBox=\"0 -960 960 960\">\n",
              "    <path d=\"M120-120v-720h720v720H120Zm60-500h600v-160H180v160Zm220 220h160v-160H400v160Zm0 220h160v-160H400v160ZM180-400h160v-160H180v160Zm440 0h160v-160H620v160ZM180-180h160v-160H180v160Zm440 0h160v-160H620v160Z\"/>\n",
              "  </svg>\n",
              "    </button>\n",
              "\n",
              "  <style>\n",
              "    .colab-df-container {\n",
              "      display:flex;\n",
              "      gap: 12px;\n",
              "    }\n",
              "\n",
              "    .colab-df-convert {\n",
              "      background-color: #E8F0FE;\n",
              "      border: none;\n",
              "      border-radius: 50%;\n",
              "      cursor: pointer;\n",
              "      display: none;\n",
              "      fill: #1967D2;\n",
              "      height: 32px;\n",
              "      padding: 0 0 0 0;\n",
              "      width: 32px;\n",
              "    }\n",
              "\n",
              "    .colab-df-convert:hover {\n",
              "      background-color: #E2EBFA;\n",
              "      box-shadow: 0px 1px 2px rgba(60, 64, 67, 0.3), 0px 1px 3px 1px rgba(60, 64, 67, 0.15);\n",
              "      fill: #174EA6;\n",
              "    }\n",
              "\n",
              "    .colab-df-buttons div {\n",
              "      margin-bottom: 4px;\n",
              "    }\n",
              "\n",
              "    [theme=dark] .colab-df-convert {\n",
              "      background-color: #3B4455;\n",
              "      fill: #D2E3FC;\n",
              "    }\n",
              "\n",
              "    [theme=dark] .colab-df-convert:hover {\n",
              "      background-color: #434B5C;\n",
              "      box-shadow: 0px 1px 3px 1px rgba(0, 0, 0, 0.15);\n",
              "      filter: drop-shadow(0px 1px 2px rgba(0, 0, 0, 0.3));\n",
              "      fill: #FFFFFF;\n",
              "    }\n",
              "  </style>\n",
              "\n",
              "    <script>\n",
              "      const buttonEl =\n",
              "        document.querySelector('#df-2d93155a-ace5-49e6-8793-c0b5046e171f button.colab-df-convert');\n",
              "      buttonEl.style.display =\n",
              "        google.colab.kernel.accessAllowed ? 'block' : 'none';\n",
              "\n",
              "      async function convertToInteractive(key) {\n",
              "        const element = document.querySelector('#df-2d93155a-ace5-49e6-8793-c0b5046e171f');\n",
              "        const dataTable =\n",
              "          await google.colab.kernel.invokeFunction('convertToInteractive',\n",
              "                                                    [key], {});\n",
              "        if (!dataTable) return;\n",
              "\n",
              "        const docLinkHtml = 'Like what you see? Visit the ' +\n",
              "          '<a target=\"_blank\" href=https://colab.research.google.com/notebooks/data_table.ipynb>data table notebook</a>'\n",
              "          + ' to learn more about interactive tables.';\n",
              "        element.innerHTML = '';\n",
              "        dataTable['output_type'] = 'display_data';\n",
              "        await google.colab.output.renderOutput(dataTable, element);\n",
              "        const docLink = document.createElement('div');\n",
              "        docLink.innerHTML = docLinkHtml;\n",
              "        element.appendChild(docLink);\n",
              "      }\n",
              "    </script>\n",
              "  </div>\n",
              "\n",
              "\n",
              "    <div id=\"df-933a6e0d-4ce0-48ec-bd30-c02858407f1e\">\n",
              "      <button class=\"colab-df-quickchart\" onclick=\"quickchart('df-933a6e0d-4ce0-48ec-bd30-c02858407f1e')\"\n",
              "                title=\"Suggest charts\"\n",
              "                style=\"display:none;\">\n",
              "\n",
              "<svg xmlns=\"http://www.w3.org/2000/svg\" height=\"24px\"viewBox=\"0 0 24 24\"\n",
              "     width=\"24px\">\n",
              "    <g>\n",
              "        <path d=\"M19 3H5c-1.1 0-2 .9-2 2v14c0 1.1.9 2 2 2h14c1.1 0 2-.9 2-2V5c0-1.1-.9-2-2-2zM9 17H7v-7h2v7zm4 0h-2V7h2v10zm4 0h-2v-4h2v4z\"/>\n",
              "    </g>\n",
              "</svg>\n",
              "      </button>\n",
              "\n",
              "<style>\n",
              "  .colab-df-quickchart {\n",
              "      --bg-color: #E8F0FE;\n",
              "      --fill-color: #1967D2;\n",
              "      --hover-bg-color: #E2EBFA;\n",
              "      --hover-fill-color: #174EA6;\n",
              "      --disabled-fill-color: #AAA;\n",
              "      --disabled-bg-color: #DDD;\n",
              "  }\n",
              "\n",
              "  [theme=dark] .colab-df-quickchart {\n",
              "      --bg-color: #3B4455;\n",
              "      --fill-color: #D2E3FC;\n",
              "      --hover-bg-color: #434B5C;\n",
              "      --hover-fill-color: #FFFFFF;\n",
              "      --disabled-bg-color: #3B4455;\n",
              "      --disabled-fill-color: #666;\n",
              "  }\n",
              "\n",
              "  .colab-df-quickchart {\n",
              "    background-color: var(--bg-color);\n",
              "    border: none;\n",
              "    border-radius: 50%;\n",
              "    cursor: pointer;\n",
              "    display: none;\n",
              "    fill: var(--fill-color);\n",
              "    height: 32px;\n",
              "    padding: 0;\n",
              "    width: 32px;\n",
              "  }\n",
              "\n",
              "  .colab-df-quickchart:hover {\n",
              "    background-color: var(--hover-bg-color);\n",
              "    box-shadow: 0 1px 2px rgba(60, 64, 67, 0.3), 0 1px 3px 1px rgba(60, 64, 67, 0.15);\n",
              "    fill: var(--button-hover-fill-color);\n",
              "  }\n",
              "\n",
              "  .colab-df-quickchart-complete:disabled,\n",
              "  .colab-df-quickchart-complete:disabled:hover {\n",
              "    background-color: var(--disabled-bg-color);\n",
              "    fill: var(--disabled-fill-color);\n",
              "    box-shadow: none;\n",
              "  }\n",
              "\n",
              "  .colab-df-spinner {\n",
              "    border: 2px solid var(--fill-color);\n",
              "    border-color: transparent;\n",
              "    border-bottom-color: var(--fill-color);\n",
              "    animation:\n",
              "      spin 1s steps(1) infinite;\n",
              "  }\n",
              "\n",
              "  @keyframes spin {\n",
              "    0% {\n",
              "      border-color: transparent;\n",
              "      border-bottom-color: var(--fill-color);\n",
              "      border-left-color: var(--fill-color);\n",
              "    }\n",
              "    20% {\n",
              "      border-color: transparent;\n",
              "      border-left-color: var(--fill-color);\n",
              "      border-top-color: var(--fill-color);\n",
              "    }\n",
              "    30% {\n",
              "      border-color: transparent;\n",
              "      border-left-color: var(--fill-color);\n",
              "      border-top-color: var(--fill-color);\n",
              "      border-right-color: var(--fill-color);\n",
              "    }\n",
              "    40% {\n",
              "      border-color: transparent;\n",
              "      border-right-color: var(--fill-color);\n",
              "      border-top-color: var(--fill-color);\n",
              "    }\n",
              "    60% {\n",
              "      border-color: transparent;\n",
              "      border-right-color: var(--fill-color);\n",
              "    }\n",
              "    80% {\n",
              "      border-color: transparent;\n",
              "      border-right-color: var(--fill-color);\n",
              "      border-bottom-color: var(--fill-color);\n",
              "    }\n",
              "    90% {\n",
              "      border-color: transparent;\n",
              "      border-bottom-color: var(--fill-color);\n",
              "    }\n",
              "  }\n",
              "</style>\n",
              "\n",
              "      <script>\n",
              "        async function quickchart(key) {\n",
              "          const quickchartButtonEl =\n",
              "            document.querySelector('#' + key + ' button');\n",
              "          quickchartButtonEl.disabled = true;  // To prevent multiple clicks.\n",
              "          quickchartButtonEl.classList.add('colab-df-spinner');\n",
              "          try {\n",
              "            const charts = await google.colab.kernel.invokeFunction(\n",
              "                'suggestCharts', [key], {});\n",
              "          } catch (error) {\n",
              "            console.error('Error during call to suggestCharts:', error);\n",
              "          }\n",
              "          quickchartButtonEl.classList.remove('colab-df-spinner');\n",
              "          quickchartButtonEl.classList.add('colab-df-quickchart-complete');\n",
              "        }\n",
              "        (() => {\n",
              "          let quickchartButtonEl =\n",
              "            document.querySelector('#df-933a6e0d-4ce0-48ec-bd30-c02858407f1e button');\n",
              "          quickchartButtonEl.style.display =\n",
              "            google.colab.kernel.accessAllowed ? 'block' : 'none';\n",
              "        })();\n",
              "      </script>\n",
              "    </div>\n",
              "\n",
              "    </div>\n",
              "  </div>\n"
            ],
            "application/vnd.google.colaboratory.intrinsic+json": {
              "type": "dataframe",
              "variable_name": "df_paddy",
              "summary": "{\n  \"name\": \"df_paddy\",\n  \"rows\": 85754,\n  \"fields\": [\n    {\n      \"column\": \"id\",\n      \"properties\": {\n        \"dtype\": \"number\",\n        \"std\": 216246,\n        \"min\": 4,\n        \"max\": 749990,\n        \"num_unique_values\": 85754,\n        \"samples\": [\n          731090,\n          206738,\n          463185\n        ],\n        \"semantic_type\": \"\",\n        \"description\": \"\"\n      }\n    },\n    {\n      \"column\": \"Temparature\",\n      \"properties\": {\n        \"dtype\": \"number\",\n        \"std\": 4,\n        \"min\": 25,\n        \"max\": 38,\n        \"num_unique_values\": 14,\n        \"samples\": [\n          38,\n          25,\n          35\n        ],\n        \"semantic_type\": \"\",\n        \"description\": \"\"\n      }\n    },\n    {\n      \"column\": \"Humidity\",\n      \"properties\": {\n        \"dtype\": \"number\",\n        \"std\": 6,\n        \"min\": 50,\n        \"max\": 72,\n        \"num_unique_values\": 23,\n        \"samples\": [\n          65,\n          61,\n          58\n        ],\n        \"semantic_type\": \"\",\n        \"description\": \"\"\n      }\n    },\n    {\n      \"column\": \"Moisture\",\n      \"properties\": {\n        \"dtype\": \"number\",\n        \"std\": 11,\n        \"min\": 25,\n        \"max\": 65,\n        \"num_unique_values\": 41,\n        \"samples\": [\n          58,\n          42,\n          65\n        ],\n        \"semantic_type\": \"\",\n        \"description\": \"\"\n      }\n    },\n    {\n      \"column\": \"Soil Type\",\n      \"properties\": {\n        \"dtype\": \"category\",\n        \"num_unique_values\": 5,\n        \"samples\": [\n          \"Sandy\",\n          \"Clayey\",\n          \"Black\"\n        ],\n        \"semantic_type\": \"\",\n        \"description\": \"\"\n      }\n    },\n    {\n      \"column\": \"Crop Type\",\n      \"properties\": {\n        \"dtype\": \"category\",\n        \"num_unique_values\": 1,\n        \"samples\": [\n          \"Paddy\"\n        ],\n        \"semantic_type\": \"\",\n        \"description\": \"\"\n      }\n    },\n    {\n      \"column\": \"Nitrogen\",\n      \"properties\": {\n        \"dtype\": \"number\",\n        \"std\": 11,\n        \"min\": 4,\n        \"max\": 42,\n        \"num_unique_values\": 39,\n        \"samples\": [\n          14\n        ],\n        \"semantic_type\": \"\",\n        \"description\": \"\"\n      }\n    },\n    {\n      \"column\": \"Potassium\",\n      \"properties\": {\n        \"dtype\": \"number\",\n        \"std\": 5,\n        \"min\": 0,\n        \"max\": 19,\n        \"num_unique_values\": 20,\n        \"samples\": [\n          2\n        ],\n        \"semantic_type\": \"\",\n        \"description\": \"\"\n      }\n    },\n    {\n      \"column\": \"Phosphorous\",\n      \"properties\": {\n        \"dtype\": \"number\",\n        \"std\": 12,\n        \"min\": 0,\n        \"max\": 42,\n        \"num_unique_values\": 43,\n        \"samples\": [\n          14\n        ],\n        \"semantic_type\": \"\",\n        \"description\": \"\"\n      }\n    },\n    {\n      \"column\": \"Fertilizer Name\",\n      \"properties\": {\n        \"dtype\": \"category\",\n        \"num_unique_values\": 7,\n        \"samples\": [\n          \"DAP\"\n        ],\n        \"semantic_type\": \"\",\n        \"description\": \"\"\n      }\n    }\n  ]\n}"
            }
          },
          "metadata": {},
          "execution_count": 5
        }
      ]
    },
    {
      "cell_type": "code",
      "source": [
        "df_paddy = df_paddy.drop(['id', 'Crop Type'], axis=1)\n",
        "# df_paddy = df_paddy.drop(['id', 'Humidity', 'Moisture', 'Crop Type', 'Nitrogen', 'Potassium'], axis=1)\n",
        "print(\"\\nKolom yang digunakan untuk model:\")\n",
        "print(df_paddy.columns)"
      ],
      "metadata": {
        "colab": {
          "base_uri": "https://localhost:8080/"
        },
        "id": "TbdyPv8JT-Me",
        "outputId": "57c107f2-82ca-446e-f438-6bd3bb68c79d"
      },
      "execution_count": 6,
      "outputs": [
        {
          "output_type": "stream",
          "name": "stdout",
          "text": [
            "\n",
            "Kolom yang digunakan untuk model:\n",
            "Index(['Temparature', 'Humidity', 'Moisture', 'Soil Type', 'Nitrogen',\n",
            "       'Potassium', 'Phosphorous', 'Fertilizer Name'],\n",
            "      dtype='object')\n"
          ]
        }
      ]
    },
    {
      "cell_type": "code",
      "source": [
        "# Visualisasi Matrix Correlation antar Fitur Numerik\n",
        "# Pilih hanya kolom numerik untuk perhitungan korelasi\n",
        "df_numeric = df_paddy.select_dtypes(include=np.number)\n",
        "\n",
        "# Hitung matrix korelasi\n",
        "correlation_matrix = df_numeric.corr()\n",
        "\n",
        "# Tampilkan heatmap\n",
        "plt.figure(figsize=(10, 8))\n",
        "sns.heatmap(correlation_matrix, annot=True, cmap='coolwarm', fmt=\".2f\", linewidths=.5)\n",
        "plt.title('Matrix Korelasi antar Fitur Numerik')\n",
        "plt.show()"
      ],
      "metadata": {
        "colab": {
          "base_uri": "https://localhost:8080/",
          "height": 699
        },
        "id": "-vYMCwUwjdYB",
        "outputId": "028fe142-a588-4cbf-c873-7bb3578aeccd"
      },
      "execution_count": 7,
      "outputs": [
        {
          "output_type": "display_data",
          "data": {
            "text/plain": [
              "<Figure size 1000x800 with 2 Axes>"
            ],
            "image/png": "[encoded data removed]"
          },
          "metadata": {}
        }
      ]
    },
    {
      "cell_type": "code",
      "source": [
        "df_paddy.head()"
      ],
      "metadata": {
        "colab": {
          "base_uri": "https://localhost:8080/",
          "height": 206
        },
        "id": "Y5k2TlWFT-TB",
        "outputId": "f8d7d2d9-8df2-448e-8b1b-fa7a29df8f43"
      },
      "execution_count": 8,
      "outputs": [
        {
          "output_type": "execute_result",
          "data": {
            "text/plain": [
              "    Temparature  Humidity  Moisture Soil Type  Nitrogen  Potassium  \\\n",
              "4            35        58        43       Red        37          2   \n",
              "6            27        62        53     Sandy        26         15   \n",
              "14           36        60        44     Sandy        15          3   \n",
              "20           26        63        37     Sandy        39          1   \n",
              "24           30        55        53     Sandy        20         19   \n",
              "\n",
              "    Phosphorous Fertilizer Name  \n",
              "4            16             DAP  \n",
              "6            22           28-28  \n",
              "14           30           20-20  \n",
              "20           28            Urea  \n",
              "24           12           28-28  "
            ],
            "text/html": [
              "\n",
              "  <div id=\"df-b2bc7d3d-3154-4e4b-b100-04f062fe897c\" class=\"colab-df-container\">\n",
              "    <div>\n",
              "<style scoped>\n",
              "    .dataframe tbody tr th:only-of-type {\n",
              "        vertical-align: middle;\n",
              "    }\n",
              "\n",
              "    .dataframe tbody tr th {\n",
              "        vertical-align: top;\n",
              "    }\n",
              "\n",
              "    .dataframe thead th {\n",
              "        text-align: right;\n",
              "    }\n",
              "</style>\n",
              "<table border=\"1\" class=\"dataframe\">\n",
              "  <thead>\n",
              "    <tr style=\"text-align: right;\">\n",
              "      <th></th>\n",
              "      <th>Temparature</th>\n",
              "      <th>Humidity</th>\n",
              "      <th>Moisture</th>\n",
              "      <th>Soil Type</th>\n",
              "      <th>Nitrogen</th>\n",
              "      <th>Potassium</th>\n",
              "      <th>Phosphorous</th>\n",
              "      <th>Fertilizer Name</th>\n",
              "    </tr>\n",
              "  </thead>\n",
              "  <tbody>\n",
              "    <tr>\n",
              "      <th>4</th>\n",
              "      <td>35</td>\n",
              "      <td>58</td>\n",
              "      <td>43</td>\n",
              "      <td>Red</td>\n",
              "      <td>37</td>\n",
              "      <td>2</td>\n",
              "      <td>16</td>\n",
              "      <td>DAP</td>\n",
              "    </tr>\n",
              "    <tr>\n",
              "      <th>6</th>\n",
              "      <td>27</td>\n",
              "      <td>62</td>\n",
              "      <td>53</td>\n",
              "      <td>Sandy</td>\n",
              "      <td>26</td>\n",
              "      <td>15</td>\n",
              "      <td>22</td>\n",
              "      <td>28-28</td>\n",
              "    </tr>\n",
              "    <tr>\n",
              "      <th>14</th>\n",
              "      <td>36</td>\n",
              "      <td>60</td>\n",
              "      <td>44</td>\n",
              "      <td>Sandy</td>\n",
              "      <td>15</td>\n",
              "      <td>3</td>\n",
              "      <td>30</td>\n",
              "      <td>20-20</td>\n",
              "    </tr>\n",
              "    <tr>\n",
              "      <th>20</th>\n",
              "      <td>26</td>\n",
              "      <td>63</td>\n",
              "      <td>37</td>\n",
              "      <td>Sandy</td>\n",
              "      <td>39</td>\n",
              "      <td>1</td>\n",
              "      <td>28</td>\n",
              "      <td>Urea</td>\n",
              "    </tr>\n",
              "    <tr>\n",
              "      <th>24</th>\n",
              "      <td>30</td>\n",
              "      <td>55</td>\n",
              "      <td>53</td>\n",
              "      <td>Sandy</td>\n",
              "      <td>20</td>\n",
              "      <td>19</td>\n",
              "      <td>12</td>\n",
              "      <td>28-28</td>\n",
              "    </tr>\n",
              "  </tbody>\n",
              "</table>\n",
              "</div>\n",
              "    <div class=\"colab-df-buttons\">\n",
              "\n",
              "  <div class=\"colab-df-container\">\n",
              "    <button class=\"colab-df-convert\" onclick=\"convertToInteractive('df-b2bc7d3d-3154-4e4b-b100-04f062fe897c')\"\n",
              "            title=\"Convert this dataframe to an interactive table.\"\n",
              "            style=\"display:none;\">\n",
              "\n",
              "  <svg xmlns=\"http://www.w3.org/2000/svg\" height=\"24px\" viewBox=\"0 -960 960 960\">\n",
              "    <path d=\"M120-120v-720h720v720H120Zm60-500h600v-160H180v160Zm220 220h160v-160H400v160Zm0 220h160v-160H400v160ZM180-400h160v-160H180v160Zm440 0h160v-160H620v160ZM180-180h160v-160H180v160Zm440 0h160v-160H620v160Z\"/>\n",
              "  </svg>\n",
              "    </button>\n",
              "\n",
              "  <style>\n",
              "    .colab-df-container {\n",
              "      display:flex;\n",
              "      gap: 12px;\n",
              "    }\n",
              "\n",
              "    .colab-df-convert {\n",
              "      background-color: #E8F0FE;\n",
              "      border: none;\n",
              "      border-radius: 50%;\n",
              "      cursor: pointer;\n",
              "      display: none;\n",
              "      fill: #1967D2;\n",
              "      height: 32px;\n",
              "      padding: 0 0 0 0;\n",
              "      width: 32px;\n",
              "    }\n",
              "\n",
              "    .colab-df-convert:hover {\n",
              "      background-color: #E2EBFA;\n",
              "      box-shadow: 0px 1px 2px rgba(60, 64, 67, 0.3), 0px 1px 3px 1px rgba(60, 64, 67, 0.15);\n",
              "      fill: #174EA6;\n",
              "    }\n",
              "\n",
              "    .colab-df-buttons div {\n",
              "      margin-bottom: 4px;\n",
              "    }\n",
              "\n",
              "    [theme=dark] .colab-df-convert {\n",
              "      background-color: #3B4455;\n",
              "      fill: #D2E3FC;\n",
              "    }\n",
              "\n",
              "    [theme=dark] .colab-df-convert:hover {\n",
              "      background-color: #434B5C;\n",
              "      box-shadow: 0px 1px 3px 1px rgba(0, 0, 0, 0.15);\n",
              "      filter: drop-shadow(0px 1px 2px rgba(0, 0, 0, 0.3));\n",
              "      fill: #FFFFFF;\n",
              "    }\n",
              "  </style>\n",
              "\n",
              "    <script>\n",
              "      const buttonEl =\n",
              "        document.querySelector('#df-b2bc7d3d-3154-4e4b-b100-04f062fe897c button.colab-df-convert');\n",
              "      buttonEl.style.display =\n",
              "        google.colab.kernel.accessAllowed ? 'block' : 'none';\n",
              "\n",
              "      async function convertToInteractive(key) {\n",
              "        const element = document.querySelector('#df-b2bc7d3d-3154-4e4b-b100-04f062fe897c');\n",
              "        const dataTable =\n",
              "          await google.colab.kernel.invokeFunction('convertToInteractive',\n",
              "                                                    [key], {});\n",
              "        if (!dataTable) return;\n",
              "\n",
              "        const docLinkHtml = 'Like what you see? Visit the ' +\n",
              "          '<a target=\"_blank\" href=https://colab.research.google.com/notebooks/data_table.ipynb>data table notebook</a>'\n",
              "          + ' to learn more about interactive tables.';\n",
              "        element.innerHTML = '';\n",
              "        dataTable['output_type'] = 'display_data';\n",
              "        await google.colab.output.renderOutput(dataTable, element);\n",
              "        const docLink = document.createElement('div');\n",
              "        docLink.innerHTML = docLinkHtml;\n",
              "        element.appendChild(docLink);\n",
              "      }\n",
              "    </script>\n",
              "  </div>\n",
              "\n",
              "\n",
              "    <div id=\"df-5a1d2c81-07ae-409e-b49e-7df7c35bed44\">\n",
              "      <button class=\"colab-df-quickchart\" onclick=\"quickchart('df-5a1d2c81-07ae-409e-b49e-7df7c35bed44')\"\n",
              "                title=\"Suggest charts\"\n",
              "                style=\"display:none;\">\n",
              "\n",
              "<svg xmlns=\"http://www.w3.org/2000/svg\" height=\"24px\"viewBox=\"0 0 24 24\"\n",
              "     width=\"24px\">\n",
              "    <g>\n",
              "        <path d=\"M19 3H5c-1.1 0-2 .9-2 2v14c0 1.1.9 2 2 2h14c1.1 0 2-.9 2-2V5c0-1.1-.9-2-2-2zM9 17H7v-7h2v7zm4 0h-2V7h2v10zm4 0h-2v-4h2v4z\"/>\n",
              "    </g>\n",
              "</svg>\n",
              "      </button>\n",
              "\n",
              "<style>\n",
              "  .colab-df-quickchart {\n",
              "      --bg-color: #E8F0FE;\n",
              "      --fill-color: #1967D2;\n",
              "      --hover-bg-color: #E2EBFA;\n",
              "      --hover-fill-color: #174EA6;\n",
              "      --disabled-fill-color: #AAA;\n",
              "      --disabled-bg-color: #DDD;\n",
              "  }\n",
              "\n",
              "  [theme=dark] .colab-df-quickchart {\n",
              "      --bg-color: #3B4455;\n",
              "      --fill-color: #D2E3FC;\n",
              "      --hover-bg-color: #434B5C;\n",
              "      --hover-fill-color: #FFFFFF;\n",
              "      --disabled-bg-color: #3B4455;\n",
              "      --disabled-fill-color: #666;\n",
              "  }\n",
              "\n",
              "  .colab-df-quickchart {\n",
              "    background-color: var(--bg-color);\n",
              "    border: none;\n",
              "    border-radius: 50%;\n",
              "    cursor: pointer;\n",
              "    display: none;\n",
              "    fill: var(--fill-color);\n",
              "    height: 32px;\n",
              "    padding: 0;\n",
              "    width: 32px;\n",
              "  }\n",
              "\n",
              "  .colab-df-quickchart:hover {\n",
              "    background-color: var(--hover-bg-color);\n",
              "    box-shadow: 0 1px 2px rgba(60, 64, 67, 0.3), 0 1px 3px 1px rgba(60, 64, 67, 0.15);\n",
              "    fill: var(--button-hover-fill-color);\n",
              "  }\n",
              "\n",
              "  .colab-df-quickchart-complete:disabled,\n",
              "  .colab-df-quickchart-complete:disabled:hover {\n",
              "    background-color: var(--disabled-bg-color);\n",
              "    fill: var(--disabled-fill-color);\n",
              "    box-shadow: none;\n",
              "  }\n",
              "\n",
              "  .colab-df-spinner {\n",
              "    border: 2px solid var(--fill-color);\n",
              "    border-color: transparent;\n",
              "    border-bottom-color: var(--fill-color);\n",
              "    animation:\n",
              "      spin 1s steps(1) infinite;\n",
              "  }\n",
              "\n",
              "  @keyframes spin {\n",
              "    0% {\n",
              "      border-color: transparent;\n",
              "      border-bottom-color: var(--fill-color);\n",
              "      border-left-color: var(--fill-color);\n",
              "    }\n",
              "    20% {\n",
              "      border-color: transparent;\n",
              "      border-left-color: var(--fill-color);\n",
              "      border-top-color: var(--fill-color);\n",
              "    }\n",
              "    30% {\n",
              "      border-color: transparent;\n",
              "      border-left-color: var(--fill-color);\n",
              "      border-top-color: var(--fill-color);\n",
              "      border-right-color: var(--fill-color);\n",
              "    }\n",
              "    40% {\n",
              "      border-color: transparent;\n",
              "      border-right-color: var(--fill-color);\n",
              "      border-top-color: var(--fill-color);\n",
              "    }\n",
              "    60% {\n",
              "      border-color: transparent;\n",
              "      border-right-color: var(--fill-color);\n",
              "    }\n",
              "    80% {\n",
              "      border-color: transparent;\n",
              "      border-right-color: var(--fill-color);\n",
              "      border-bottom-color: var(--fill-color);\n",
              "    }\n",
              "    90% {\n",
              "      border-color: transparent;\n",
              "      border-bottom-color: var(--fill-color);\n",
              "    }\n",
              "  }\n",
              "</style>\n",
              "\n",
              "      <script>\n",
              "        async function quickchart(key) {\n",
              "          const quickchartButtonEl =\n",
              "            document.querySelector('#' + key + ' button');\n",
              "          quickchartButtonEl.disabled = true;  // To prevent multiple clicks.\n",
              "          quickchartButtonEl.classList.add('colab-df-spinner');\n",
              "          try {\n",
              "            const charts = await google.colab.kernel.invokeFunction(\n",
              "                'suggestCharts', [key], {});\n",
              "          } catch (error) {\n",
              "            console.error('Error during call to suggestCharts:', error);\n",
              "          }\n",
              "          quickchartButtonEl.classList.remove('colab-df-spinner');\n",
              "          quickchartButtonEl.classList.add('colab-df-quickchart-complete');\n",
              "        }\n",
              "        (() => {\n",
              "          let quickchartButtonEl =\n",
              "            document.querySelector('#df-5a1d2c81-07ae-409e-b49e-7df7c35bed44 button');\n",
              "          quickchartButtonEl.style.display =\n",
              "            google.colab.kernel.accessAllowed ? 'block' : 'none';\n",
              "        })();\n",
              "      </script>\n",
              "    </div>\n",
              "\n",
              "    </div>\n",
              "  </div>\n"
            ],
            "application/vnd.google.colaboratory.intrinsic+json": {
              "type": "dataframe",
              "variable_name": "df_paddy",
              "summary": "{\n  \"name\": \"df_paddy\",\n  \"rows\": 85754,\n  \"fields\": [\n    {\n      \"column\": \"Temparature\",\n      \"properties\": {\n        \"dtype\": \"number\",\n        \"std\": 4,\n        \"min\": 25,\n        \"max\": 38,\n        \"num_unique_values\": 14,\n        \"samples\": [\n          38,\n          25,\n          35\n        ],\n        \"semantic_type\": \"\",\n        \"description\": \"\"\n      }\n    },\n    {\n      \"column\": \"Humidity\",\n      \"properties\": {\n        \"dtype\": \"number\",\n        \"std\": 6,\n        \"min\": 50,\n        \"max\": 72,\n        \"num_unique_values\": 23,\n        \"samples\": [\n          65,\n          61,\n          58\n        ],\n        \"semantic_type\": \"\",\n        \"description\": \"\"\n      }\n    },\n    {\n      \"column\": \"Moisture\",\n      \"properties\": {\n        \"dtype\": \"number\",\n        \"std\": 11,\n        \"min\": 25,\n        \"max\": 65,\n        \"num_unique_values\": 41,\n        \"samples\": [\n          58,\n          42,\n          65\n        ],\n        \"semantic_type\": \"\",\n        \"description\": \"\"\n      }\n    },\n    {\n      \"column\": \"Soil Type\",\n      \"properties\": {\n        \"dtype\": \"category\",\n        \"num_unique_values\": 5,\n        \"samples\": [\n          \"Sandy\",\n          \"Clayey\",\n          \"Black\"\n        ],\n        \"semantic_type\": \"\",\n        \"description\": \"\"\n      }\n    },\n    {\n      \"column\": \"Nitrogen\",\n      \"properties\": {\n        \"dtype\": \"number\",\n        \"std\": 11,\n        \"min\": 4,\n        \"max\": 42,\n        \"num_unique_values\": 39,\n        \"samples\": [\n          14,\n          4,\n          20\n        ],\n        \"semantic_type\": \"\",\n        \"description\": \"\"\n      }\n    },\n    {\n      \"column\": \"Potassium\",\n      \"properties\": {\n        \"dtype\": \"number\",\n        \"std\": 5,\n        \"min\": 0,\n        \"max\": 19,\n        \"num_unique_values\": 20,\n        \"samples\": [\n          2,\n          16,\n          11\n        ],\n        \"semantic_type\": \"\",\n        \"description\": \"\"\n      }\n    },\n    {\n      \"column\": \"Phosphorous\",\n      \"properties\": {\n        \"dtype\": \"number\",\n        \"std\": 12,\n        \"min\": 0,\n        \"max\": 42,\n        \"num_unique_values\": 43,\n        \"samples\": [\n          14,\n          37,\n          8\n        ],\n        \"semantic_type\": \"\",\n        \"description\": \"\"\n      }\n    },\n    {\n      \"column\": \"Fertilizer Name\",\n      \"properties\": {\n        \"dtype\": \"category\",\n        \"num_unique_values\": 7,\n        \"samples\": [\n          \"DAP\",\n          \"28-28\",\n          \"14-35-14\"\n        ],\n        \"semantic_type\": \"\",\n        \"description\": \"\"\n      }\n    }\n  ]\n}"
            }
          },
          "metadata": {},
          "execution_count": 8
        }
      ]
    },
    {
      "cell_type": "code",
      "source": [
        "df_paddy.describe()"
      ],
      "metadata": {
        "colab": {
          "base_uri": "https://localhost:8080/",
          "height": 300
        },
        "id": "Yqnb6OBvTXyp",
        "outputId": "0384f80c-8f63-4f57-d1c5-5e983ab5b49d"
      },
      "execution_count": 9,
      "outputs": [
        {
          "output_type": "execute_result",
          "data": {
            "text/plain": [
              "        Temparature      Humidity      Moisture      Nitrogen     Potassium  \\\n",
              "count  85754.000000  85754.000000  85754.000000  85754.000000  85754.000000   \n",
              "mean      31.527101     61.021713     45.422977     22.915398      9.501119   \n",
              "std        4.065536      6.647491     11.907852     11.332435      5.775685   \n",
              "min       25.000000     50.000000     25.000000      4.000000      0.000000   \n",
              "25%       28.000000     55.000000     35.000000     13.000000      4.000000   \n",
              "50%       32.000000     61.000000     45.000000     23.000000      9.000000   \n",
              "75%       35.000000     67.000000     56.000000     33.000000     15.000000   \n",
              "max       38.000000     72.000000     65.000000     42.000000     19.000000   \n",
              "\n",
              "        Phosphorous  \n",
              "count  85754.000000  \n",
              "mean      21.201040  \n",
              "std       12.365459  \n",
              "min        0.000000  \n",
              "25%       11.000000  \n",
              "50%       21.000000  \n",
              "75%       32.000000  \n",
              "max       42.000000  "
            ],
            "text/html": [
              "\n",
              "  <div id=\"df-77fe7a04-cf2c-435e-9f06-8a6da9d5fd9c\" class=\"colab-df-container\">\n",
              "    <div>\n",
              "<style scoped>\n",
              "    .dataframe tbody tr th:only-of-type {\n",
              "        vertical-align: middle;\n",
              "    }\n",
              "\n",
              "    .dataframe tbody tr th {\n",
              "        vertical-align: top;\n",
              "    }\n",
              "\n",
              "    .dataframe thead th {\n",
              "        text-align: right;\n",
              "    }\n",
              "</style>\n",
              "<table border=\"1\" class=\"dataframe\">\n",
              "  <thead>\n",
              "    <tr style=\"text-align: right;\">\n",
              "      <th></th>\n",
              "      <th>Temparature</th>\n",
              "      <th>Humidity</th>\n",
              "      <th>Moisture</th>\n",
              "      <th>Nitrogen</th>\n",
              "      <th>Potassium</th>\n",
              "      <th>Phosphorous</th>\n",
              "    </tr>\n",
              "  </thead>\n",
              "  <tbody>\n",
              "    <tr>\n",
              "      <th>count</th>\n",
              "      <td>85754.000000</td>\n",
              "      <td>85754.000000</td>\n",
              "      <td>85754.000000</td>\n",
              "      <td>85754.000000</td>\n",
              "      <td>85754.000000</td>\n",
              "      <td>85754.000000</td>\n",
              "    </tr>\n",
              "    <tr>\n",
              "      <th>mean</th>\n",
              "      <td>31.527101</td>\n",
              "      <td>61.021713</td>\n",
              "      <td>45.422977</td>\n",
              "      <td>22.915398</td>\n",
              "      <td>9.501119</td>\n",
              "      <td>21.201040</td>\n",
              "    </tr>\n",
              "    <tr>\n",
              "      <th>std</th>\n",
              "      <td>4.065536</td>\n",
              "      <td>6.647491</td>\n",
              "      <td>11.907852</td>\n",
              "      <td>11.332435</td>\n",
              "      <td>5.775685</td>\n",
              "      <td>12.365459</td>\n",
              "    </tr>\n",
              "    <tr>\n",
              "      <th>min</th>\n",
              "      <td>25.000000</td>\n",
              "      <td>50.000000</td>\n",
              "      <td>25.000000</td>\n",
              "      <td>4.000000</td>\n",
              "      <td>0.000000</td>\n",
              "      <td>0.000000</td>\n",
              "    </tr>\n",
              "    <tr>\n",
              "      <th>25%</th>\n",
              "      <td>28.000000</td>\n",
              "      <td>55.000000</td>\n",
              "      <td>35.000000</td>\n",
              "      <td>13.000000</td>\n",
              "      <td>4.000000</td>\n",
              "      <td>11.000000</td>\n",
              "    </tr>\n",
              "    <tr>\n",
              "      <th>50%</th>\n",
              "      <td>32.000000</td>\n",
              "      <td>61.000000</td>\n",
              "      <td>45.000000</td>\n",
              "      <td>23.000000</td>\n",
              "      <td>9.000000</td>\n",
              "      <td>21.000000</td>\n",
              "    </tr>\n",
              "    <tr>\n",
              "      <th>75%</th>\n",
              "      <td>35.000000</td>\n",
              "      <td>67.000000</td>\n",
              "      <td>56.000000</td>\n",
              "      <td>33.000000</td>\n",
              "      <td>15.000000</td>\n",
              "      <td>32.000000</td>\n",
              "    </tr>\n",
              "    <tr>\n",
              "      <th>max</th>\n",
              "      <td>38.000000</td>\n",
              "      <td>72.000000</td>\n",
              "      <td>65.000000</td>\n",
              "      <td>42.000000</td>\n",
              "      <td>19.000000</td>\n",
              "      <td>42.000000</td>\n",
              "    </tr>\n",
              "  </tbody>\n",
              "</table>\n",
              "</div>\n",
              "    <div class=\"colab-df-buttons\">\n",
              "\n",
              "  <div class=\"colab-df-container\">\n",
              "    <button class=\"colab-df-convert\" onclick=\"convertToInteractive('df-77fe7a04-cf2c-435e-9f06-8a6da9d5fd9c')\"\n",
              "            title=\"Convert this dataframe to an interactive table.\"\n",
              "            style=\"display:none;\">\n",
              "\n",
              "  <svg xmlns=\"http://www.w3.org/2000/svg\" height=\"24px\" viewBox=\"0 -960 960 960\">\n",
              "    <path d=\"M120-120v-720h720v720H120Zm60-500h600v-160H180v160Zm220 220h160v-160H400v160Zm0 220h160v-160H400v160ZM180-400h160v-160H180v160Zm440 0h160v-160H620v160ZM180-180h160v-160H180v160Zm440 0h160v-160H620v160Z\"/>\n",
              "  </svg>\n",
              "    </button>\n",
              "\n",
              "  <style>\n",
              "    .colab-df-container {\n",
              "      display:flex;\n",
              "      gap: 12px;\n",
              "    }\n",
              "\n",
              "    .colab-df-convert {\n",
              "      background-color: #E8F0FE;\n",
              "      border: none;\n",
              "      border-radius: 50%;\n",
              "      cursor: pointer;\n",
              "      display: none;\n",
              "      fill: #1967D2;\n",
              "      height: 32px;\n",
              "      padding: 0 0 0 0;\n",
              "      width: 32px;\n",
              "    }\n",
              "\n",
              "    .colab-df-convert:hover {\n",
              "      background-color: #E2EBFA;\n",
              "      box-shadow: 0px 1px 2px rgba(60, 64, 67, 0.3), 0px 1px 3px 1px rgba(60, 64, 67, 0.15);\n",
              "      fill: #174EA6;\n",
              "    }\n",
              "\n",
              "    .colab-df-buttons div {\n",
              "      margin-bottom: 4px;\n",
              "    }\n",
              "\n",
              "    [theme=dark] .colab-df-convert {\n",
              "      background-color: #3B4455;\n",
              "      fill: #D2E3FC;\n",
              "    }\n",
              "\n",
              "    [theme=dark] .colab-df-convert:hover {\n",
              "      background-color: #434B5C;\n",
              "      box-shadow: 0px 1px 3px 1px rgba(0, 0, 0, 0.15);\n",
              "      filter: drop-shadow(0px 1px 2px rgba(0, 0, 0, 0.3));\n",
              "      fill: #FFFFFF;\n",
              "    }\n",
              "  </style>\n",
              "\n",
              "    <script>\n",
              "      const buttonEl =\n",
              "        document.querySelector('#df-77fe7a04-cf2c-435e-9f06-8a6da9d5fd9c button.colab-df-convert');\n",
              "      buttonEl.style.display =\n",
              "        google.colab.kernel.accessAllowed ? 'block' : 'none';\n",
              "\n",
              "      async function convertToInteractive(key) {\n",
              "        const element = document.querySelector('#df-77fe7a04-cf2c-435e-9f06-8a6da9d5fd9c');\n",
              "        const dataTable =\n",
              "          await google.colab.kernel.invokeFunction('convertToInteractive',\n",
              "                                                    [key], {});\n",
              "        if (!dataTable) return;\n",
              "\n",
              "        const docLinkHtml = 'Like what you see? Visit the ' +\n",
              "          '<a target=\"_blank\" href=https://colab.research.google.com/notebooks/data_table.ipynb>data table notebook</a>'\n",
              "          + ' to learn more about interactive tables.';\n",
              "        element.innerHTML = '';\n",
              "        dataTable['output_type'] = 'display_data';\n",
              "        await google.colab.output.renderOutput(dataTable, element);\n",
              "        const docLink = document.createElement('div');\n",
              "        docLink.innerHTML = docLinkHtml;\n",
              "        element.appendChild(docLink);\n",
              "      }\n",
              "    </script>\n",
              "  </div>\n",
              "\n",
              "\n",
              "    <div id=\"df-7fa56a36-e477-49d5-8f8b-48cdea18ee07\">\n",
              "      <button class=\"colab-df-quickchart\" onclick=\"quickchart('df-7fa56a36-e477-49d5-8f8b-48cdea18ee07')\"\n",
              "                title=\"Suggest charts\"\n",
              "                style=\"display:none;\">\n",
              "\n",
              "<svg xmlns=\"http://www.w3.org/2000/svg\" height=\"24px\"viewBox=\"0 0 24 24\"\n",
              "     width=\"24px\">\n",
              "    <g>\n",
              "        <path d=\"M19 3H5c-1.1 0-2 .9-2 2v14c0 1.1.9 2 2 2h14c1.1 0 2-.9 2-2V5c0-1.1-.9-2-2-2zM9 17H7v-7h2v7zm4 0h-2V7h2v10zm4 0h-2v-4h2v4z\"/>\n",
              "    </g>\n",
              "</svg>\n",
              "      </button>\n",
              "\n",
              "<style>\n",
              "  .colab-df-quickchart {\n",
              "      --bg-color: #E8F0FE;\n",
              "      --fill-color: #1967D2;\n",
              "      --hover-bg-color: #E2EBFA;\n",
              "      --hover-fill-color: #174EA6;\n",
              "      --disabled-fill-color: #AAA;\n",
              "      --disabled-bg-color: #DDD;\n",
              "  }\n",
              "\n",
              "  [theme=dark] .colab-df-quickchart {\n",
              "      --bg-color: #3B4455;\n",
              "      --fill-color: #D2E3FC;\n",
              "      --hover-bg-color: #434B5C;\n",
              "      --hover-fill-color: #FFFFFF;\n",
              "      --disabled-bg-color: #3B4455;\n",
              "      --disabled-fill-color: #666;\n",
              "  }\n",
              "\n",
              "  .colab-df-quickchart {\n",
              "    background-color: var(--bg-color);\n",
              "    border: none;\n",
              "    border-radius: 50%;\n",
              "    cursor: pointer;\n",
              "    display: none;\n",
              "    fill: var(--fill-color);\n",
              "    height: 32px;\n",
              "    padding: 0;\n",
              "    width: 32px;\n",
              "  }\n",
              "\n",
              "  .colab-df-quickchart:hover {\n",
              "    background-color: var(--hover-bg-color);\n",
              "    box-shadow: 0 1px 2px rgba(60, 64, 67, 0.3), 0 1px 3px 1px rgba(60, 64, 67, 0.15);\n",
              "    fill: var(--button-hover-fill-color);\n",
              "  }\n",
              "\n",
              "  .colab-df-quickchart-complete:disabled,\n",
              "  .colab-df-quickchart-complete:disabled:hover {\n",
              "    background-color: var(--disabled-bg-color);\n",
              "    fill: var(--disabled-fill-color);\n",
              "    box-shadow: none;\n",
              "  }\n",
              "\n",
              "  .colab-df-spinner {\n",
              "    border: 2px solid var(--fill-color);\n",
              "    border-color: transparent;\n",
              "    border-bottom-color: var(--fill-color);\n",
              "    animation:\n",
              "      spin 1s steps(1) infinite;\n",
              "  }\n",
              "\n",
              "  @keyframes spin {\n",
              "    0% {\n",
              "      border-color: transparent;\n",
              "      border-bottom-color: var(--fill-color);\n",
              "      border-left-color: var(--fill-color);\n",
              "    }\n",
              "    20% {\n",
              "      border-color: transparent;\n",
              "      border-left-color: var(--fill-color);\n",
              "      border-top-color: var(--fill-color);\n",
              "    }\n",
              "    30% {\n",
              "      border-color: transparent;\n",
              "      border-left-color: var(--fill-color);\n",
              "      border-top-color: var(--fill-color);\n",
              "      border-right-color: var(--fill-color);\n",
              "    }\n",
              "    40% {\n",
              "      border-color: transparent;\n",
              "      border-right-color: var(--fill-color);\n",
              "      border-top-color: var(--fill-color);\n",
              "    }\n",
              "    60% {\n",
              "      border-color: transparent;\n",
              "      border-right-color: var(--fill-color);\n",
              "    }\n",
              "    80% {\n",
              "      border-color: transparent;\n",
              "      border-right-color: var(--fill-color);\n",
              "      border-bottom-color: var(--fill-color);\n",
              "    }\n",
              "    90% {\n",
              "      border-color: transparent;\n",
              "      border-bottom-color: var(--fill-color);\n",
              "    }\n",
              "  }\n",
              "</style>\n",
              "\n",
              "      <script>\n",
              "        async function quickchart(key) {\n",
              "          const quickchartButtonEl =\n",
              "            document.querySelector('#' + key + ' button');\n",
              "          quickchartButtonEl.disabled = true;  // To prevent multiple clicks.\n",
              "          quickchartButtonEl.classList.add('colab-df-spinner');\n",
              "          try {\n",
              "            const charts = await google.colab.kernel.invokeFunction(\n",
              "                'suggestCharts', [key], {});\n",
              "          } catch (error) {\n",
              "            console.error('Error during call to suggestCharts:', error);\n",
              "          }\n",
              "          quickchartButtonEl.classList.remove('colab-df-spinner');\n",
              "          quickchartButtonEl.classList.add('colab-df-quickchart-complete');\n",
              "        }\n",
              "        (() => {\n",
              "          let quickchartButtonEl =\n",
              "            document.querySelector('#df-7fa56a36-e477-49d5-8f8b-48cdea18ee07 button');\n",
              "          quickchartButtonEl.style.display =\n",
              "            google.colab.kernel.accessAllowed ? 'block' : 'none';\n",
              "        })();\n",
              "      </script>\n",
              "    </div>\n",
              "\n",
              "    </div>\n",
              "  </div>\n"
            ],
            "application/vnd.google.colaboratory.intrinsic+json": {
              "type": "dataframe",
              "summary": "{\n  \"name\": \"df_paddy\",\n  \"rows\": 8,\n  \"fields\": [\n    {\n      \"column\": \"Temparature\",\n      \"properties\": {\n        \"dtype\": \"number\",\n        \"std\": 30308.84133968944,\n        \"min\": 4.065535917678776,\n        \"max\": 85754.0,\n        \"num_unique_values\": 8,\n        \"samples\": [\n          31.527100776640157,\n          32.0,\n          85754.0\n        ],\n        \"semantic_type\": \"\",\n        \"description\": \"\"\n      }\n    },\n    {\n      \"column\": \"Humidity\",\n      \"properties\": {\n        \"dtype\": \"number\",\n        \"std\": 30299.801529997487,\n        \"min\": 6.647491473164732,\n        \"max\": 85754.0,\n        \"num_unique_values\": 8,\n        \"samples\": [\n          61.02171327285025,\n          61.0,\n          85754.0\n        ],\n        \"semantic_type\": \"\",\n        \"description\": \"\"\n      }\n    },\n    {\n      \"column\": \"Moisture\",\n      \"properties\": {\n        \"dtype\": \"number\",\n        \"std\": 30304.311739432822,\n        \"min\": 11.907852408164329,\n        \"max\": 85754.0,\n        \"num_unique_values\": 8,\n        \"samples\": [\n          45.42297735382606,\n          45.0,\n          85754.0\n        ],\n        \"semantic_type\": \"\",\n        \"description\": \"\"\n      }\n    },\n    {\n      \"column\": \"Nitrogen\",\n      \"properties\": {\n        \"dtype\": \"number\",\n        \"std\": 30311.081750051937,\n        \"min\": 4.0,\n        \"max\": 85754.0,\n        \"num_unique_values\": 8,\n        \"samples\": [\n          22.915397532476618,\n          23.0,\n          85754.0\n        ],\n        \"semantic_type\": \"\",\n        \"description\": \"\"\n      }\n    },\n    {\n      \"column\": \"Potassium\",\n      \"properties\": {\n        \"dtype\": \"number\",\n        \"std\": 30315.472598428052,\n        \"min\": 0.0,\n        \"max\": 85754.0,\n        \"num_unique_values\": 8,\n        \"samples\": [\n          9.501119481306995,\n          9.0,\n          85754.0\n        ],\n        \"semantic_type\": \"\",\n        \"description\": \"\"\n      }\n    },\n    {\n      \"column\": \"Phosphorous\",\n      \"properties\": {\n        \"dtype\": \"number\",\n        \"std\": 30311.571040600462,\n        \"min\": 0.0,\n        \"max\": 85754.0,\n        \"num_unique_values\": 8,\n        \"samples\": [\n          21.201040184714415,\n          21.0,\n          85754.0\n        ],\n        \"semantic_type\": \"\",\n        \"description\": \"\"\n      }\n    }\n  ]\n}"
            }
          },
          "metadata": {},
          "execution_count": 9
        }
      ]
    },
    {
      "cell_type": "code",
      "source": [
        "df_paddy.info()"
      ],
      "metadata": {
        "colab": {
          "base_uri": "https://localhost:8080/"
        },
        "id": "52boVfavTSwN",
        "outputId": "83c4a0de-9273-4cc7-f694-514781ad5c7a"
      },
      "execution_count": 10,
      "outputs": [
        {
          "output_type": "stream",
          "name": "stdout",
          "text": [
            "<class 'pandas.core.frame.DataFrame'>\n",
            "Index: 85754 entries, 4 to 749990\n",
            "Data columns (total 8 columns):\n",
            " #   Column           Non-Null Count  Dtype \n",
            "---  ------           --------------  ----- \n",
            " 0   Temparature      85754 non-null  int64 \n",
            " 1   Humidity         85754 non-null  int64 \n",
            " 2   Moisture         85754 non-null  int64 \n",
            " 3   Soil Type        85754 non-null  object\n",
            " 4   Nitrogen         85754 non-null  int64 \n",
            " 5   Potassium        85754 non-null  int64 \n",
            " 6   Phosphorous      85754 non-null  int64 \n",
            " 7   Fertilizer Name  85754 non-null  object\n",
            "dtypes: int64(6), object(2)\n",
            "memory usage: 5.9+ MB\n"
          ]
        }
      ]
    },
    {
      "cell_type": "code",
      "source": [
        "print(f\"\\nJumlah nilai null per kolom:\\n{df_paddy.isnull().sum()}\")"
      ],
      "metadata": {
        "colab": {
          "base_uri": "https://localhost:8080/"
        },
        "id": "7RnRB_SzUH5j",
        "outputId": "3c7de5de-66d3-4499-ffbc-3459c9b47b0f"
      },
      "execution_count": 11,
      "outputs": [
        {
          "output_type": "stream",
          "name": "stdout",
          "text": [
            "\n",
            "Jumlah nilai null per kolom:\n",
            "Temparature        0\n",
            "Humidity           0\n",
            "Moisture           0\n",
            "Soil Type          0\n",
            "Nitrogen           0\n",
            "Potassium          0\n",
            "Phosphorous        0\n",
            "Fertilizer Name    0\n",
            "dtype: int64\n"
          ]
        }
      ]
    },
    {
      "cell_type": "code",
      "source": [
        "print(f\"\\nJumlah nilai duplicated per kolom:\\n{df_paddy.duplicated().sum()}\")"
      ],
      "metadata": {
        "colab": {
          "base_uri": "https://localhost:8080/"
        },
        "id": "A4flO5u4UKqI",
        "outputId": "ed1681b3-4245-4d6d-85cc-062aed479eaf"
      },
      "execution_count": 12,
      "outputs": [
        {
          "output_type": "stream",
          "name": "stdout",
          "text": [
            "\n",
            "Jumlah nilai duplicated per kolom:\n",
            "0\n"
          ]
        }
      ]
    },
    {
      "cell_type": "markdown",
      "metadata": {
        "id": "bFgLyQPHX98s"
      },
      "source": [
        "### Data Preprocessing"
      ]
    },
    {
      "cell_type": "markdown",
      "metadata": {
        "id": "gxhM51i_-VnC"
      },
      "source": [
        "#### Pre-Processing"
      ]
    },
    {
      "cell_type": "code",
      "source": [
        "target_column = 'Fertilizer Name'\n",
        "X = df_paddy.drop(target_column, axis=1)\n",
        "y = df_paddy[target_column]"
      ],
      "metadata": {
        "id": "-3PPib7YVQD3"
      },
      "execution_count": 13,
      "outputs": []
    },
    {
      "cell_type": "code",
      "source": [
        "# Identifikasi kolom numerik dan kategorikal\n",
        "numerical_features = ['Temparature', 'Humidity', 'Moisture', 'Nitrogen', 'Potassium', 'Phosphorous']\n",
        "# numerical_features = ['Temparature', 'Phosphorous']\n",
        "categorical_features = ['Soil Type']"
      ],
      "metadata": {
        "id": "xcNCr9AwVTnt"
      },
      "execution_count": 14,
      "outputs": []
    },
    {
      "cell_type": "code",
      "source": [
        "# --- Preprocessing Kolom Numerik ---\n",
        "# Menggunakan StandardScaler, cocok untuk Deep Learning\n",
        "scaler = StandardScaler()\n",
        "X_numerical_scaled = scaler.fit_transform(X[numerical_features])\n",
        "# Ubah kembali ke DataFrame agar mudah digabung\n",
        "X_numerical_scaled_df = pd.DataFrame(X_numerical_scaled,\n",
        "                                     columns=numerical_features,\n",
        "                                     index=X.index)"
      ],
      "metadata": {
        "id": "Cvc8Ka3IVV76"
      },
      "execution_count": 15,
      "outputs": []
    },
    {
      "cell_type": "code",
      "source": [
        "# --- Preprocessing Kolom Kategorikal ---\n",
        "# Menggunakan One-Hot Encoding\n",
        "X_categorical_encoded = pd.get_dummies(X[categorical_features], drop_first=False)"
      ],
      "metadata": {
        "id": "WiuW3ejeVXwT"
      },
      "execution_count": 16,
      "outputs": []
    },
    {
      "cell_type": "code",
      "source": [
        "# --- Gabungkan kembali Fitur ---\n",
        "X_processed = pd.concat([X_numerical_scaled_df, X_categorical_encoded], axis=1)"
      ],
      "metadata": {
        "id": "Wctiv-V5Vb91"
      },
      "execution_count": 17,
      "outputs": []
    },
    {
      "cell_type": "code",
      "source": [
        "print(f\"\\nBentuk data fitur (X) setelah preprocessing: {X_processed.shape}\")\n",
        "print(\"Contoh 5 baris data fitur (X) yang sudah diproses:\")\n",
        "print(X_processed.head())"
      ],
      "metadata": {
        "colab": {
          "base_uri": "https://localhost:8080/"
        },
        "id": "4viVWNKoVhNi",
        "outputId": "98e57b82-0598-4a5c-a31c-4cc41e71479c"
      },
      "execution_count": 18,
      "outputs": [
        {
          "output_type": "stream",
          "name": "stdout",
          "text": [
            "\n",
            "Bentuk data fitur (X) setelah preprocessing: (85754, 11)\n",
            "Contoh 5 baris data fitur (X) yang sudah diproses:\n",
            "    Temparature  Humidity  Moisture  Nitrogen  Potassium  Phosphorous  \\\n",
            "4      0.854234 -0.454567 -0.203478  1.242865  -1.298749    -0.420613   \n",
            "6     -1.113538  0.147167  0.636308  0.272194   0.952080     0.064613   \n",
            "14     1.100206 -0.153700 -0.119500 -0.698477  -1.125608     0.711580   \n",
            "20    -1.359509  0.297601 -0.707351  1.419350  -1.471889     0.549838   \n",
            "24    -0.375623 -0.905868  0.636308 -0.257263   1.644642    -0.744096   \n",
            "\n",
            "    Soil Type_Black  Soil Type_Clayey  Soil Type_Loamy  Soil Type_Red  \\\n",
            "4             False             False            False           True   \n",
            "6             False             False            False          False   \n",
            "14            False             False            False          False   \n",
            "20            False             False            False          False   \n",
            "24            False             False            False          False   \n",
            "\n",
            "    Soil Type_Sandy  \n",
            "4             False  \n",
            "6              True  \n",
            "14             True  \n",
            "20             True  \n",
            "24             True  \n"
          ]
        }
      ]
    },
    {
      "cell_type": "code",
      "source": [
        "# Preprocessing Target (y)\n",
        "# Menggunakan LabelEncoder untuk mengubah nama pupuk (string) menjadi angka (integer)\n",
        "label_encoder = LabelEncoder()\n",
        "y_processed = label_encoder.fit_transform(y)"
      ],
      "metadata": {
        "id": "rZJuT5Y0Vh9I"
      },
      "execution_count": 19,
      "outputs": []
    },
    {
      "cell_type": "code",
      "source": [
        "# Simpan jumlah kelas untuk output layer model\n",
        "num_classes = len(label_encoder.classes_)\n",
        "print(f\"\\nJumlah kelas pupuk (target): {num_classes}\")\n",
        "print(f\"Nama kelas: {label_encoder.classes_}\")"
      ],
      "metadata": {
        "colab": {
          "base_uri": "https://localhost:8080/"
        },
        "id": "P0cbpGLGVkwV",
        "outputId": "96d68a4a-ddf3-43bf-adf8-cb5f1c0064c5"
      },
      "execution_count": 20,
      "outputs": [
        {
          "output_type": "stream",
          "name": "stdout",
          "text": [
            "\n",
            "Jumlah kelas pupuk (target): 7\n",
            "Nama kelas: ['10-26-26' '14-35-14' '17-17-17' '20-20' '28-28' 'DAP' 'Urea']\n"
          ]
        }
      ]
    },
    {
      "cell_type": "markdown",
      "metadata": {
        "id": "9ICO2-E0YxzD"
      },
      "source": [
        "#### Split Dataset"
      ]
    },
    {
      "cell_type": "code",
      "source": [
        "# Split Data: 80% Training, 20% Validation\n",
        "# stratify=y_processed penting agar proporsi kelas pupuk di train dan val set sama\n",
        "X_train, X_val, y_train, y_val = train_test_split(\n",
        "    X_processed,\n",
        "    y_processed,\n",
        "    test_size=0.2,\n",
        "    random_state=42,\n",
        "    stratify=y_processed\n",
        ")\n",
        "\n",
        "print(f\"\\nData Latih (Train): {X_train.shape}, {y_train.shape}\")\n",
        "print(f\"Data Validasi (Val): {X_val.shape}, {y_val.shape}\")"
      ],
      "metadata": {
        "colab": {
          "base_uri": "https://localhost:8080/"
        },
        "id": "HgJqjmSLYcp9",
        "outputId": "0c05fc56-8fef-42bd-efb6-85625be6f0b9"
      },
      "execution_count": 21,
      "outputs": [
        {
          "output_type": "stream",
          "name": "stdout",
          "text": [
            "\n",
            "Data Latih (Train): (68603, 11), (68603,)\n",
            "Data Validasi (Val): (17151, 11), (17151,)\n"
          ]
        }
      ]
    },
    {
      "cell_type": "code",
      "source": [
        "# Simpan input shape untuk model\n",
        "input_shape = (X_train.shape[1],)"
      ],
      "metadata": {
        "id": "5bjCCDrjYeKj"
      },
      "execution_count": 22,
      "outputs": []
    },
    {
      "cell_type": "markdown",
      "metadata": {
        "id": "nc-Ph-oIYAUU"
      },
      "source": [
        "## Modelling"
      ]
    },
    {
      "cell_type": "code",
      "source": [
        "# Bangun Arsitektur Model\n",
        "\n",
        "model = Sequential(name=\"Fertilizer_Recommendation_Model\")\n",
        "model.add(Input(shape=input_shape, name=\"Input_Layer\"))\n",
        "model.add(Dense(128, activation='relu', name=\"Hidden_Layer_1\"))\n",
        "model.add(Dropout(0.4, name=\"Dropout_1\")) # Dropout untuk mengurangi overfitting\n",
        "model.add(Dense(64, activation='relu', name=\"Hidden_Layer_2\"))\n",
        "model.add(Dropout(0.2, name=\"Dropout_2\"))\n",
        "model.add(Dense(num_classes, activation='softmax', name=\"Output_Layer\")) # Softmax untuk klasifikasi multi-kelas"
      ],
      "metadata": {
        "id": "WTfLl20GYnBP"
      },
      "execution_count": 23,
      "outputs": []
    },
    {
      "cell_type": "code",
      "source": [
        "# Compile Model\n",
        "\n",
        "model.compile(\n",
        "    optimizer='adam', # Optimizer yang umum dan efektif\n",
        "    loss='sparse_categorical_crossentropy', # Cocok karena y_train adalah integer (bukan one-hot)\n",
        "    metrics=['accuracy']\n",
        ")"
      ],
      "metadata": {
        "id": "gbNot7bvYqJx"
      },
      "execution_count": 24,
      "outputs": []
    },
    {
      "cell_type": "code",
      "source": [
        "# Tampilkan ringkasan model\n",
        "\n",
        "model.summary()"
      ],
      "metadata": {
        "id": "5QvqwW2TYr0h",
        "colab": {
          "base_uri": "https://localhost:8080/",
          "height": 291
        },
        "outputId": "6d7a4bfa-8636-4f77-e8c6-edbf1a4c4736"
      },
      "execution_count": 25,
      "outputs": [
        {
          "output_type": "display_data",
          "data": {
            "text/plain": [
              "\u001b[1mModel: \"Fertilizer_Recommendation_Model\"\u001b[0m\n"
            ],
            "text/html": [
              "<pre style=\"white-space:pre;overflow-x:auto;line-height:normal;font-family:Menlo,'DejaVu Sans Mono',consolas,'Courier New',monospace\"><span style=\"font-weight: bold\">Model: \"Fertilizer_Recommendation_Model\"</span>\n",
              "</pre>\n"
            ]
          },
          "metadata": {}
        },
        {
          "output_type": "display_data",
          "data": {
            "text/plain": [
              "┏━━━━━━━━━━━━━━━━━━━━━━━━━━━━━━━━━┳━━━━━━━━━━━━━━━━━━━━━━━━┳━━━━━━━━━━━━━━━┓\n",
              "┃\u001b[1m \u001b[0m\u001b[1mLayer (type)                   \u001b[0m\u001b[1m \u001b[0m┃\u001b[1m \u001b[0m\u001b[1mOutput Shape          \u001b[0m\u001b[1m \u001b[0m┃\u001b[1m \u001b[0m\u001b[1m      Param #\u001b[0m\u001b[1m \u001b[0m┃\n",
              "┡━━━━━━━━━━━━━━━━━━━━━━━━━━━━━━━━━╇━━━━━━━━━━━━━━━━━━━━━━━━╇━━━━━━━━━━━━━━━┩\n",
              "│ Hidden_Layer_1 (\u001b[38;5;33mDense\u001b[0m)          │ (\u001b[38;5;45mNone\u001b[0m, \u001b[38;5;34m128\u001b[0m)            │         \u001b[38;5;34m1,536\u001b[0m │\n",
              "├─────────────────────────────────┼────────────────────────┼───────────────┤\n",
              "│ Dropout_1 (\u001b[38;5;33mDropout\u001b[0m)             │ (\u001b[38;5;45mNone\u001b[0m, \u001b[38;5;34m128\u001b[0m)            │             \u001b[38;5;34m0\u001b[0m │\n",
              "├─────────────────────────────────┼────────────────────────┼───────────────┤\n",
              "│ Hidden_Layer_2 (\u001b[38;5;33mDense\u001b[0m)          │ (\u001b[38;5;45mNone\u001b[0m, \u001b[38;5;34m64\u001b[0m)             │         \u001b[38;5;34m8,256\u001b[0m │\n",
              "├─────────────────────────────────┼────────────────────────┼───────────────┤\n",
              "│ Dropout_2 (\u001b[38;5;33mDropout\u001b[0m)             │ (\u001b[38;5;45mNone\u001b[0m, \u001b[38;5;34m64\u001b[0m)             │             \u001b[38;5;34m0\u001b[0m │\n",
              "├─────────────────────────────────┼────────────────────────┼───────────────┤\n",
              "│ Output_Layer (\u001b[38;5;33mDense\u001b[0m)            │ (\u001b[38;5;45mNone\u001b[0m, \u001b[38;5;34m7\u001b[0m)              │           \u001b[38;5;34m455\u001b[0m │\n",
              "└─────────────────────────────────┴────────────────────────┴───────────────┘\n"
            ],
            "text/html": [
              "<pre style=\"white-space:pre;overflow-x:auto;line-height:normal;font-family:Menlo,'DejaVu Sans Mono',consolas,'Courier New',monospace\">┏━━━━━━━━━━━━━━━━━━━━━━━━━━━━━━━━━┳━━━━━━━━━━━━━━━━━━━━━━━━┳━━━━━━━━━━━━━━━┓\n",
              "┃<span style=\"font-weight: bold\"> Layer (type)                    </span>┃<span style=\"font-weight: bold\"> Output Shape           </span>┃<span style=\"font-weight: bold\">       Param # </span>┃\n",
              "┡━━━━━━━━━━━━━━━━━━━━━━━━━━━━━━━━━╇━━━━━━━━━━━━━━━━━━━━━━━━╇━━━━━━━━━━━━━━━┩\n",
              "│ Hidden_Layer_1 (<span style=\"color: #0087ff; text-decoration-color: #0087ff\">Dense</span>)          │ (<span style=\"color: #00d7ff; text-decoration-color: #00d7ff\">None</span>, <span style=\"color: #00af00; text-decoration-color: #00af00\">128</span>)            │         <span style=\"color: #00af00; text-decoration-color: #00af00\">1,536</span> │\n",
              "├─────────────────────────────────┼────────────────────────┼───────────────┤\n",
              "│ Dropout_1 (<span style=\"color: #0087ff; text-decoration-color: #0087ff\">Dropout</span>)             │ (<span style=\"color: #00d7ff; text-decoration-color: #00d7ff\">None</span>, <span style=\"color: #00af00; text-decoration-color: #00af00\">128</span>)            │             <span style=\"color: #00af00; text-decoration-color: #00af00\">0</span> │\n",
              "├─────────────────────────────────┼────────────────────────┼───────────────┤\n",
              "│ Hidden_Layer_2 (<span style=\"color: #0087ff; text-decoration-color: #0087ff\">Dense</span>)          │ (<span style=\"color: #00d7ff; text-decoration-color: #00d7ff\">None</span>, <span style=\"color: #00af00; text-decoration-color: #00af00\">64</span>)             │         <span style=\"color: #00af00; text-decoration-color: #00af00\">8,256</span> │\n",
              "├─────────────────────────────────┼────────────────────────┼───────────────┤\n",
              "│ Dropout_2 (<span style=\"color: #0087ff; text-decoration-color: #0087ff\">Dropout</span>)             │ (<span style=\"color: #00d7ff; text-decoration-color: #00d7ff\">None</span>, <span style=\"color: #00af00; text-decoration-color: #00af00\">64</span>)             │             <span style=\"color: #00af00; text-decoration-color: #00af00\">0</span> │\n",
              "├─────────────────────────────────┼────────────────────────┼───────────────┤\n",
              "│ Output_Layer (<span style=\"color: #0087ff; text-decoration-color: #0087ff\">Dense</span>)            │ (<span style=\"color: #00d7ff; text-decoration-color: #00d7ff\">None</span>, <span style=\"color: #00af00; text-decoration-color: #00af00\">7</span>)              │           <span style=\"color: #00af00; text-decoration-color: #00af00\">455</span> │\n",
              "└─────────────────────────────────┴────────────────────────┴───────────────┘\n",
              "</pre>\n"
            ]
          },
          "metadata": {}
        },
        {
          "output_type": "display_data",
          "data": {
            "text/plain": [
              "\u001b[1m Total params: \u001b[0m\u001b[38;5;34m10,247\u001b[0m (40.03 KB)\n"
            ],
            "text/html": [
              "<pre style=\"white-space:pre;overflow-x:auto;line-height:normal;font-family:Menlo,'DejaVu Sans Mono',consolas,'Courier New',monospace\"><span style=\"font-weight: bold\"> Total params: </span><span style=\"color: #00af00; text-decoration-color: #00af00\">10,247</span> (40.03 KB)\n",
              "</pre>\n"
            ]
          },
          "metadata": {}
        },
        {
          "output_type": "display_data",
          "data": {
            "text/plain": [
              "\u001b[1m Trainable params: \u001b[0m\u001b[38;5;34m10,247\u001b[0m (40.03 KB)\n"
            ],
            "text/html": [
              "<pre style=\"white-space:pre;overflow-x:auto;line-height:normal;font-family:Menlo,'DejaVu Sans Mono',consolas,'Courier New',monospace\"><span style=\"font-weight: bold\"> Trainable params: </span><span style=\"color: #00af00; text-decoration-color: #00af00\">10,247</span> (40.03 KB)\n",
              "</pre>\n"
            ]
          },
          "metadata": {}
        },
        {
          "output_type": "display_data",
          "data": {
            "text/plain": [
              "\u001b[1m Non-trainable params: \u001b[0m\u001b[38;5;34m0\u001b[0m (0.00 B)\n"
            ],
            "text/html": [
              "<pre style=\"white-space:pre;overflow-x:auto;line-height:normal;font-family:Menlo,'DejaVu Sans Mono',consolas,'Courier New',monospace\"><span style=\"font-weight: bold\"> Non-trainable params: </span><span style=\"color: #00af00; text-decoration-color: #00af00\">0</span> (0.00 B)\n",
              "</pre>\n"
            ]
          },
          "metadata": {}
        }
      ]
    },
    {
      "cell_type": "code",
      "source": [
        "# Siapkan Callback\n",
        "# EarlyStopping untuk menghentikan training jika val_loss tidak membaik\n",
        "# restore_best_weights=True akan mengembalikan bobot model ke epoch terbaik\n",
        "\n",
        "early_stopping = EarlyStopping(\n",
        "    monitor='val_loss',\n",
        "    patience=15, # Jumlah epoch tanpa perbaikan sebelum berhenti\n",
        "    restore_best_weights=True,\n",
        "    verbose=1\n",
        ")"
      ],
      "metadata": {
        "id": "GEsKXVpdYtib"
      },
      "execution_count": 26,
      "outputs": []
    },
    {
      "cell_type": "code",
      "source": [
        "# Latih Model\n",
        "\n",
        "print(\"\\nMemulai pelatihan model...\")\n",
        "history = model.fit(\n",
        "    X_train,\n",
        "    y_train,\n",
        "    epochs=100, # Jumlah epoch maksimal\n",
        "    batch_size=32,\n",
        "    validation_data=(X_val, y_val),\n",
        "    callbacks=[early_stopping],\n",
        "    verbose=2 # Tampilkan log per epoch\n",
        ")\n",
        "\n",
        "print(\"Pelatihan model selesai.\")"
      ],
      "metadata": {
        "id": "uPqYjetjYvmu",
        "colab": {
          "base_uri": "https://localhost:8080/"
        },
        "outputId": "8a78fbf8-a4ab-4b91-957b-5f1cbbe79930"
      },
      "execution_count": 27,
      "outputs": [
        {
          "output_type": "stream",
          "name": "stdout",
          "text": [
            "\n",
            "Memulai pelatihan model...\n",
            "Epoch 1/100\n",
            "2144/2144 - 7s - 3ms/step - accuracy: 0.1536 - loss: 1.9476 - val_accuracy: 0.1587 - val_loss: 1.9423\n",
            "Epoch 2/100\n",
            "2144/2144 - 5s - 2ms/step - accuracy: 0.1587 - loss: 1.9431 - val_accuracy: 0.1550 - val_loss: 1.9420\n",
            "Epoch 3/100\n",
            "2144/2144 - 6s - 3ms/step - accuracy: 0.1607 - loss: 1.9422 - val_accuracy: 0.1614 - val_loss: 1.9415\n",
            "Epoch 4/100\n",
            "2144/2144 - 5s - 2ms/step - accuracy: 0.1607 - loss: 1.9419 - val_accuracy: 0.1592 - val_loss: 1.9412\n",
            "Epoch 5/100\n",
            "2144/2144 - 6s - 3ms/step - accuracy: 0.1616 - loss: 1.9414 - val_accuracy: 0.1589 - val_loss: 1.9413\n",
            "Epoch 6/100\n",
            "2144/2144 - 5s - 2ms/step - accuracy: 0.1630 - loss: 1.9411 - val_accuracy: 0.1605 - val_loss: 1.9414\n",
            "Epoch 7/100\n",
            "2144/2144 - 5s - 2ms/step - accuracy: 0.1615 - loss: 1.9411 - val_accuracy: 0.1598 - val_loss: 1.9409\n",
            "Epoch 8/100\n",
            "2144/2144 - 5s - 2ms/step - accuracy: 0.1641 - loss: 1.9402 - val_accuracy: 0.1603 - val_loss: 1.9407\n",
            "Epoch 9/100\n",
            "2144/2144 - 5s - 2ms/step - accuracy: 0.1634 - loss: 1.9405 - val_accuracy: 0.1625 - val_loss: 1.9409\n",
            "Epoch 10/100\n",
            "2144/2144 - 6s - 3ms/step - accuracy: 0.1648 - loss: 1.9400 - val_accuracy: 0.1619 - val_loss: 1.9410\n",
            "Epoch 11/100\n",
            "2144/2144 - 5s - 2ms/step - accuracy: 0.1639 - loss: 1.9401 - val_accuracy: 0.1612 - val_loss: 1.9413\n",
            "Epoch 12/100\n",
            "2144/2144 - 5s - 3ms/step - accuracy: 0.1646 - loss: 1.9397 - val_accuracy: 0.1588 - val_loss: 1.9411\n",
            "Epoch 13/100\n",
            "2144/2144 - 5s - 2ms/step - accuracy: 0.1656 - loss: 1.9396 - val_accuracy: 0.1600 - val_loss: 1.9413\n",
            "Epoch 14/100\n",
            "2144/2144 - 5s - 2ms/step - accuracy: 0.1661 - loss: 1.9392 - val_accuracy: 0.1642 - val_loss: 1.9412\n",
            "Epoch 15/100\n",
            "2144/2144 - 6s - 3ms/step - accuracy: 0.1667 - loss: 1.9389 - val_accuracy: 0.1587 - val_loss: 1.9412\n",
            "Epoch 16/100\n",
            "2144/2144 - 5s - 2ms/step - accuracy: 0.1681 - loss: 1.9386 - val_accuracy: 0.1592 - val_loss: 1.9418\n",
            "Epoch 17/100\n",
            "2144/2144 - 6s - 3ms/step - accuracy: 0.1651 - loss: 1.9391 - val_accuracy: 0.1564 - val_loss: 1.9415\n",
            "Epoch 18/100\n",
            "2144/2144 - 5s - 2ms/step - accuracy: 0.1668 - loss: 1.9384 - val_accuracy: 0.1596 - val_loss: 1.9414\n",
            "Epoch 19/100\n",
            "2144/2144 - 5s - 3ms/step - accuracy: 0.1689 - loss: 1.9384 - val_accuracy: 0.1624 - val_loss: 1.9416\n",
            "Epoch 20/100\n",
            "2144/2144 - 7s - 3ms/step - accuracy: 0.1687 - loss: 1.9380 - val_accuracy: 0.1644 - val_loss: 1.9414\n",
            "Epoch 21/100\n",
            "2144/2144 - 5s - 2ms/step - accuracy: 0.1697 - loss: 1.9381 - val_accuracy: 0.1610 - val_loss: 1.9422\n",
            "Epoch 22/100\n",
            "2144/2144 - 6s - 3ms/step - accuracy: 0.1692 - loss: 1.9381 - val_accuracy: 0.1645 - val_loss: 1.9410\n",
            "Epoch 23/100\n",
            "2144/2144 - 10s - 5ms/step - accuracy: 0.1693 - loss: 1.9376 - val_accuracy: 0.1622 - val_loss: 1.9417\n",
            "Epoch 23: early stopping\n",
            "Restoring model weights from the end of the best epoch: 8.\n",
            "Pelatihan model selesai.\n"
          ]
        }
      ]
    },
    {
      "cell_type": "markdown",
      "metadata": {
        "id": "XctzCfzbYCBK"
      },
      "source": [
        "## Evaluasi dan Visualisasi"
      ]
    },
    {
      "cell_type": "code",
      "source": [
        "# Evaluasi Model pada Data Validasi\n",
        "\n",
        "val_loss, val_accuracy = model.evaluate(X_val, y_val, verbose=0)\n",
        "print(f\"\\n--- Hasil Evaluasi Model ---\")\n",
        "print(f\"Loss Validasi \\t: {val_loss:.4f}\")\n",
        "print(f\"Akurasi Validasi: {val_accuracy * 100:.2f}%\")"
      ],
      "metadata": {
        "id": "Xmjza_v6pNc3",
        "colab": {
          "base_uri": "https://localhost:8080/"
        },
        "outputId": "6088d260-eccd-459c-868e-5983efb80206"
      },
      "execution_count": 28,
      "outputs": [
        {
          "output_type": "stream",
          "name": "stdout",
          "text": [
            "\n",
            "--- Hasil Evaluasi Model ---\n",
            "Loss Validasi \t: 1.9407\n",
            "Akurasi Validasi: 16.03%\n"
          ]
        }
      ]
    },
    {
      "cell_type": "code",
      "source": [
        "# Visualisasi Akurasi\n",
        "plt.figure(figsize=(12, 5))\n",
        "plt.subplot(1, 2, 1)\n",
        "plt.plot(history.history['accuracy'], label='Akurasi Training')\n",
        "plt.plot(history.history['val_accuracy'], label='Akurasi Validasi')\n",
        "plt.title('Plot Akurasi Model')\n",
        "plt.xlabel('Epoch')\n",
        "plt.ylabel('Akurasi')\n",
        "plt.legend(loc='lower right')"
      ],
      "metadata": {
        "colab": {
          "base_uri": "https://localhost:8080/",
          "height": 504
        },
        "id": "A_PBFf7OY0VU",
        "outputId": "81fc418f-c0d3-4611-e298-765777f177e7"
      },
      "execution_count": 29,
      "outputs": [
        {
          "output_type": "execute_result",
          "data": {
            "text/plain": [
              "<matplotlib.legend.Legend at 0x7fdbf69cf6e0>"
            ]
          },
          "metadata": {},
          "execution_count": 29
        },
        {
          "output_type": "display_data",
          "data": {
            "text/plain": [
              "<Figure size 1200x500 with 1 Axes>"
            ],
            "image/png": "[encoded data removed]"
          },
          "metadata": {}
        }
      ]
    },
    {
      "cell_type": "code",
      "source": [
        "# Visualisasi Loss\n",
        "plt.subplot(1, 2, 2)\n",
        "plt.plot(history.history['loss'], label='Loss Training')\n",
        "plt.plot(history.history['val_loss'], label='Loss Validasi')\n",
        "plt.title('Plot Loss Model')\n",
        "plt.xlabel('Epoch')\n",
        "plt.ylabel('Loss')\n",
        "plt.legend(loc='upper right')\n",
        "\n",
        "plt.tight_layout()\n",
        "plt.show()"
      ],
      "metadata": {
        "id": "iz8OTUtkY10G",
        "colab": {
          "base_uri": "https://localhost:8080/",
          "height": 487
        },
        "outputId": "f2c0f029-2db7-44af-b4e3-389a27c04e7d"
      },
      "execution_count": 30,
      "outputs": [
        {
          "output_type": "display_data",
          "data": {
            "text/plain": [
              "<Figure size 640x480 with 1 Axes>"
            ],
            "image/png": "[encoded data removed]"
          },
          "metadata": {}
        }
      ]
    },
    {
      "cell_type": "code",
      "source": [
        "# Classification Report\n",
        "# Lakukan prediksi pada data validasi\n",
        "y_pred_probs = model.predict(X_val)\n",
        "y_pred_classes = np.argmax(y_pred_probs, axis=1)\n",
        "\n",
        "# Tampilkan classification report\n",
        "print(\"\\n--- Classification Report ---\")\n",
        "print(classification_report(\n",
        "    y_val,\n",
        "    y_pred_classes,\n",
        "    target_names=label_encoder.classes_\n",
        "))"
      ],
      "metadata": {
        "id": "JKleH6dTY4Pk",
        "colab": {
          "base_uri": "https://localhost:8080/"
        },
        "outputId": "6fb52d5e-4c72-45c3-872c-dd22eaaa69a7"
      },
      "execution_count": 31,
      "outputs": [
        {
          "output_type": "stream",
          "name": "stdout",
          "text": [
            "\u001b[1m536/536\u001b[0m \u001b[32m━━━━━━━━━━━━━━━━━━━━\u001b[0m\u001b[37m\u001b[0m \u001b[1m1s\u001b[0m 1ms/step\n",
            "\n",
            "--- Classification Report ---\n",
            "              precision    recall  f1-score   support\n",
            "\n",
            "    10-26-26       0.16      0.34      0.22      2562\n",
            "    14-35-14       0.18      0.07      0.10      2530\n",
            "    17-17-17       0.16      0.12      0.13      2532\n",
            "       20-20       0.17      0.06      0.08      2316\n",
            "       28-28       0.15      0.41      0.22      2653\n",
            "         DAP       0.22      0.03      0.05      2366\n",
            "        Urea       0.18      0.04      0.07      2192\n",
            "\n",
            "    accuracy                           0.16     17151\n",
            "   macro avg       0.17      0.15      0.13     17151\n",
            "weighted avg       0.17      0.16      0.13     17151\n",
            "\n"
          ]
        }
      ]
    },
    {
      "cell_type": "markdown",
      "metadata": {
        "id": "y_fIsUogYFSk"
      },
      "source": [
        "## Konversi Model"
      ]
    },
    {
      "cell_type": "code",
      "source": [
        "# Inisialisasi TFLite Converter\n",
        "converter = tf.lite.TFLiteConverter.from_keras_model(model)\n",
        "\n",
        "# Lakukan Konversi\n",
        "tflite_model = converter.convert()\n",
        "\n",
        "# Simpan Model TFLite ke File\n",
        "tflite_model_filename = 'fertilizer_paddy_model.tflite'\n",
        "with open(tflite_model_filename, 'wb') as f:\n",
        "    f.write(tflite_model)\n",
        "\n",
        "print(f\"\\nModel berhasil dikonversi dan disimpan sebagai '{tflite_model_filename}'\")"
      ],
      "metadata": {
        "id": "6Bv94HtkZAhR",
        "colab": {
          "base_uri": "https://localhost:8080/"
        },
        "outputId": "26504280-a5b0-44fe-cb7c-57f42a15571b"
      },
      "execution_count": 32,
      "outputs": [
        {
          "output_type": "stream",
          "name": "stdout",
          "text": [
            "Saved artifact at '/tmp/tmp9b0xxjhg'. The following endpoints are available:\n",
            "\n",
            "* Endpoint 'serve'\n",
            "  args_0 (POSITIONAL_ONLY): TensorSpec(shape=(None, 11), dtype=tf.float32, name='Input_Layer')\n",
            "Output Type:\n",
            "  TensorSpec(shape=(None, 7), dtype=tf.float32, name=None)\n",
            "Captures:\n",
            "  140583673450320: TensorSpec(shape=(), dtype=tf.resource, name=None)\n",
            "  140583673451472: TensorSpec(shape=(), dtype=tf.resource, name=None)\n",
            "  140583673449936: TensorSpec(shape=(), dtype=tf.resource, name=None)\n",
            "  140583673448400: TensorSpec(shape=(), dtype=tf.resource, name=None)\n",
            "  140583673453392: TensorSpec(shape=(), dtype=tf.resource, name=None)\n",
            "  140583673453968: TensorSpec(shape=(), dtype=tf.resource, name=None)\n",
            "\n",
            "Model berhasil dikonversi dan disimpan sebagai 'fertilizer_paddy_model.tflite'\n"
          ]
        }
      ]
    },
    {
      "cell_type": "markdown",
      "metadata": {
        "id": "8DbfEwvvm5U4"
      },
      "source": [
        "## Inference (Optional)"
      ]
    },
    {
      "cell_type": "code",
      "source": [
        "# Muat Model TFLite\n",
        "interpreter = tf.lite.Interpreter(model_path=tflite_model_filename)\n",
        "interpreter.allocate_tensors()\n",
        "\n",
        "# Dapatkan detail input dan output\n",
        "input_details = interpreter.get_input_details()\n",
        "output_details = interpreter.get_output_details()\n",
        "\n",
        "print(f\"\\n--- Detail Input Model ---\")\n",
        "print(input_details)\n",
        "print(f\"\\n--- Detail Output Model ---\")\n",
        "print(output_details)\n",
        "\n",
        "# Buat Contoh Data Input (sesuai dengan fitur yang digunakan)\n",
        "# Contoh ini menggunakan nilai rata-rata dari data training (X_train)\n",
        "# Anda bisa mengganti nilai ini dengan data baru yang ingin diprediksi\n",
        "sample_input_data = {\n",
        "    'Temparature': [X_train['Temparature'].mean()],\n",
        "    'Humidity': [X_train['Humidity'].mean()],\n",
        "    'Moisture': [X_train['Moisture'].mean()],\n",
        "    'Nitrogen': [X_train['Nitrogen'].mean()],\n",
        "    'Potassium': [X_train['Potassium'].mean()],\n",
        "    'Phosphorous': [X_train['Phosphorous'].mean()],\n",
        "    'Soil Type_Black': [X_train['Soil Type_Black'].mean()],\n",
        "    'Soil Type_Clayey': [X_train['Soil Type_Clayey'].mean()],\n",
        "    'Soil Type_Loamy': [X_train['Soil Type_Loamy'].mean()],\n",
        "    'Soil Type_Red': [X_train['Soil Type_Red'].mean()],\n",
        "    'Soil Type_Sandy': [X_train['Soil Type_Sandy'].mean()],\n",
        "}\n",
        "\n",
        "sample_df = pd.DataFrame(sample_input_data)\n",
        "\n",
        "print(\"\\nContoh data input:\")\n",
        "print(sample_df)\n",
        "\n",
        "# Preprocessing Contoh Data Input\n",
        "# Pastikan urutan kolom sesuai dengan urutan saat training\n",
        "# Gunakan scaler dan one-hot encoder yang sama seperti saat training\n",
        "# (Dalam contoh ini, karena menggunakan mean dari data yang sudah diskalakan/encoded,\n",
        "# langkah scaling/encoding ulang tidak diperlukan untuk data rata-rata.\n",
        "# Namun, untuk data baru, Anda perlu menggunakan scaler dan encoder yang sudah fit\n",
        "# pada data training).\n",
        "# Untuk data baru:\n",
        "# sample_numerical_scaled = scaler.transform(sample_df[numerical_features])\n",
        "# sample_categorical_encoded = pd.get_dummies(sample_df[categorical_features], drop_first=False)\n",
        "# sample_processed = pd.concat([pd.DataFrame(sample_numerical_scaled, columns=numerical_features), sample_categorical_encoded], axis=1)\n",
        "\n",
        "# Karena kita menggunakan mean dari data yang sudah diproses, kita bisa langsung menggunakan sample_df\n",
        "sample_processed = sample_df.astype(np.float32) # TFLite biasanya butuh float32\n",
        "\n",
        "# Pastikan urutan kolom sample_processed sama dengan X_processed\n",
        "sample_processed = sample_processed[X_processed.columns]\n",
        "\n",
        "\n",
        "print(\"\\nContoh data input setelah preprocessing:\")\n",
        "print(sample_processed)\n",
        "\n",
        "\n",
        "# Lakukan Inferensi\n",
        "# Ubah data input ke format tensor TFLite\n",
        "input_tensor = tf.constant(sample_processed.values, dtype=tf.float32)\n",
        "interpreter.set_tensor(input_details[0]['index'], input_tensor)\n",
        "\n",
        "# Jalankan inferensi\n",
        "interpreter.invoke()\n",
        "\n",
        "# Ambil hasil output\n",
        "output_tensor = interpreter.get_tensor(output_details[0]['index'])\n",
        "\n",
        "# Hasil output adalah probabilitas untuk setiap kelas\n",
        "predicted_probabilities = output_tensor[0]\n",
        "predicted_class_index = np.argmax(predicted_probabilities)\n",
        "predicted_fertilizer = label_encoder.classes_[predicted_class_index]\n",
        "\n",
        "print(f\"\\nHasil Inferensi:\")\n",
        "print(f\"Probabilitas Prediksi: {predicted_probabilities}\")\n",
        "print(f\"Indeks Kelas Prediksi: {predicted_class_index}\")\n",
        "print(f\"Nama Pupuk Prediksi  : {predicted_fertilizer}\")"
      ],
      "metadata": {
        "id": "9q_GTxxPZH8j",
        "colab": {
          "base_uri": "https://localhost:8080/"
        },
        "outputId": "287b3a96-16bc-441d-f4d4-c7238768855b"
      },
      "execution_count": 33,
      "outputs": [
        {
          "output_type": "stream",
          "name": "stdout",
          "text": [
            "\n",
            "--- Detail Input Model ---\n",
            "[{'name': 'serving_default_Input_Layer:0', 'index': 0, 'shape': array([ 1, 11], dtype=int32), 'shape_signature': array([-1, 11], dtype=int32), 'dtype': <class 'numpy.float32'>, 'quantization': (0.0, 0), 'quantization_parameters': {'scales': array([], dtype=float32), 'zero_points': array([], dtype=int32), 'quantized_dimension': 0}, 'sparsity_parameters': {}}]\n",
            "\n",
            "--- Detail Output Model ---\n",
            "[{'name': 'StatefulPartitionedCall_1:0', 'index': 10, 'shape': array([1, 7], dtype=int32), 'shape_signature': array([-1,  7], dtype=int32), 'dtype': <class 'numpy.float32'>, 'quantization': (0.0, 0), 'quantization_parameters': {'scales': array([], dtype=float32), 'zero_points': array([], dtype=int32), 'quantized_dimension': 0}, 'sparsity_parameters': {}}]\n",
            "\n",
            "Contoh data input:\n",
            "   Temparature  Humidity  Moisture  Nitrogen  Potassium  Phosphorous  \\\n",
            "0     0.003038 -0.000453  0.001667 -0.000391  -0.001351    -0.001874   \n",
            "\n",
            "   Soil Type_Black  Soil Type_Clayey  Soil Type_Loamy  Soil Type_Red  \\\n",
            "0         0.213693          0.189292          0.19744       0.194991   \n",
            "\n",
            "   Soil Type_Sandy  \n",
            "0         0.204583  \n",
            "\n",
            "Contoh data input setelah preprocessing:\n",
            "   Temparature  Humidity  Moisture  Nitrogen  Potassium  Phosphorous  \\\n",
            "0     0.003038 -0.000453  0.001667 -0.000391  -0.001351    -0.001874   \n",
            "\n",
            "   Soil Type_Black  Soil Type_Clayey  Soil Type_Loamy  Soil Type_Red  \\\n",
            "0         0.213693          0.189292          0.19744       0.194991   \n",
            "\n",
            "   Soil Type_Sandy  \n",
            "0         0.204583  \n",
            "\n",
            "Hasil Inferensi:\n",
            "Probabilitas Prediksi: [0.14679216 0.14249033 0.14509495 0.140556   0.15536489 0.13862924\n",
            " 0.13107248]\n",
            "Indeks Kelas Prediksi: 4\n",
            "Nama Pupuk Prediksi  : 28-28\n"
          ]
        },
        {
          "output_type": "stream",
          "name": "stderr",
          "text": [
            "/usr/local/lib/python3.12/dist-packages/tensorflow/lite/python/interpreter.py:457: UserWarning:     Warning: tf.lite.Interpreter is deprecated and is scheduled for deletion in\n",
            "    TF 2.20. Please use the LiteRT interpreter from the ai_edge_litert package.\n",
            "    See the [migration guide](https://ai.google.dev/edge/litert/migration)\n",
            "    for details.\n",
            "    \n",
            "  warnings.warn(_INTERPRETER_DELETION_WARNING)\n"
          ]
        }
      ]
    },
    {
      "cell_type": "markdown",
      "metadata": {
        "id": "VJMJzzYrGbVQ"
      },
      "source": [
        "Membuat File README.md"
      ]
    },
    {
      "cell_type": "code",
      "execution_count": 34,
      "metadata": {
        "id": "83b01abf",
        "colab": {
          "base_uri": "https://localhost:8080/"
        },
        "outputId": "68bae45b-68d2-4f35-f73d-31855d488416"
      },
      "outputs": [
        {
          "output_type": "stream",
          "name": "stdout",
          "text": [
            "File README.md berhasil diperbarui.\n"
          ]
        }
      ],
      "source": [
        "# Membuat file README.md\n",
        "readme_content = \"\"\"\n",
        "# Proyek Rekomendasi Pupuk Padi\n",
        "\n",
        "Ini adalah proyek model Machine Learning (Deep Learning) untuk merekomendasikan jenis pupuk yang sesuai untuk tanaman padi berdasarkan berbagai parameter tanah dan lingkungan.\n",
        "\n",
        "## Dataset\n",
        "Dataset yang digunakan berisi data parameter seperti Suhu, Kelembaban, Kelembaban Tanah, Jenis Tanah, Nitrogen, Kalium, Fosfor, dan Jenis Pupuk yang digunakan untuk tanaman padi.\n",
        "\n",
        "## Data Preprocessing\n",
        "Data dilakukan preprocessing meliputi:\n",
        "- Filtering data hanya untuk 'Crop Type' = 'Paddy'.\n",
        "- Menghapus kolom yang tidak relevan ('id', 'Crop Type').\n",
        "- Scaling fitur numerik menggunakan `StandardScaler`.\n",
        "- One-Hot Encoding fitur kategorikal ('Soil Type').\n",
        "- Label Encoding target ('Fertilizer Name').\n",
        "- Split data menjadi Training (80%) dan Validation (20%) dengan stratifikasi.\n",
        "\n",
        "## Arsitektur Model\n",
        "Model menggunakan arsitektur Sequential Deep Learning dengan layer:\n",
        "- Input Layer (sesuai jumlah fitur setelah preprocessing)\n",
        "- Dense Layer (128 unit, aktivasi 'relu', dengan Dropout 0.4)\n",
        "- Dense Layer (64 unit, aktivasi 'relu', dengan Dropout 0.2)\n",
        "- Output Layer (sesuai jumlah kelas pupuk, aktivasi 'softmax')\n",
        "\n",
        "Model dikompilasi menggunakan optimizer 'adam' dan loss 'sparse_categorical_crossentropy'. Digunakan callback `EarlyStopping` dengan `patience=15` dan `restore_best_weights=True`.\n",
        "\n",
        "## Hasil Pelatihan dan Evaluasi\n",
        "(Bagian ini dapat diisi manual setelah menjalankan notebook)\n",
        "*   **Jumlah Epoch Terbaik:** (Akan diisi)\n",
        "*   **Loss Training (Epoch Terbaik):** (Akan diisi)\n",
        "*   **Akurasi Training (Epoch Terbaik):** (Akan diisi)\n",
        "*   **Loss Validasi (Epoch Terbaik):** {val_loss:.4f}\n",
        "*   **Akurasi Validasi:** {val_accuracy_percent:.2f}%\n",
        "*   **Classification Report:** (Akan dilampirkan atau dijelaskan secara manual)\n",
        "\n",
        "## File Model yang Dihasilkan\n",
        "Proyek ini menghasilkan model dalam format TF-Lite:\n",
        "*   **TF-Lite:** `fertilizer_paddy_model.tflite`\n",
        "\n",
        "## Cara Penggunaan (Inferensi)\n",
        "(Bagian ini dapat menjelaskan cara memuat model TFLite dan melakukan prediksi menggunakan data input baru)\n",
        "\"\"\"\n",
        "\n",
        "try:\n",
        "    # Format string dengan hasil evaluasi dari sel sebelumnya\n",
        "    val_accuracy_percent = val_accuracy * 100\n",
        "    readme_content = readme_content.format(val_loss=val_loss, val_accuracy_percent=val_accuracy_percent)\n",
        "    with open('README.md', 'w') as f:\n",
        "        f.write(readme_content)\n",
        "    print(\"File README.md berhasil diperbarui.\")\n",
        "except Exception as e:\n",
        "    print(f\"Terjadi error saat memperbarui file README.md: {e}\")"
      ]
    },
    {
      "cell_type": "markdown",
      "metadata": {
        "id": "hpng7rRnb9mL"
      },
      "source": [
        "Membuat File Requirements"
      ]
    },
    {
      "cell_type": "code",
      "execution_count": 35,
      "metadata": {
        "id": "gvdX520ycHiZ"
      },
      "outputs": [],
      "source": [
        "# Creating requirements.txt file\n",
        "!pip freeze > requirements.txt"
      ]
    }
  ],
  "metadata": {
    "colab": {
      "provenance": []
    },
    "kernelspec": {
      "display_name": "Python 3",
      "name": "python3"
    },
    "language_info": {
      "name": "python"
    }
  },
  "nbformat": 4,
  "nbformat_minor": 0
}